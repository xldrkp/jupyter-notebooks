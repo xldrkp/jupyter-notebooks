{
 "cells": [
  {
   "cell_type": "code",
   "execution_count": null,
   "metadata": {},
   "outputs": [],
   "source": [
    "from flask import Flask\n",
    "from flask import render_template, request\n",
    "\n",
    "app = Flask(__name__)\n",
    "\n",
    "@app.route(\"/\", methods=[\"GET\",\"POST\"])\n",
    "def index():\n",
    "    if request.method == 'POST':\n",
    "        name = request.form['name']\n",
    "        #print(request.form)\n",
    "        return 'Hallo, {}!'.format(name)\n",
    "    return \"\"\"\n",
    "<!DOCTYPE html>\n",
    "<html>\n",
    "  <head>\n",
    "    <meta charset=\"utf-8\">\n",
    "    <title>Schalte was!</title>\n",
    "  </head>\n",
    "  <body>\n",
    "    <form action=\"/\" method=\"post\">\n",
    "      <input type=\"text\" name=\"name\" value=\"\" placeholder=\"Trag Deinen Namen ein!\">\n",
    "      <input type=\"submit\" name=\"submit\" value=\"Abschicken\">\n",
    "    </form>\n",
    "  </body>\n",
    "</html>\n",
    "    \"\"\"\n",
    "\n",
    "if __name__ =='__main__':\n",
    "    app.run()\n"
   ]
  },
  {
   "cell_type": "code",
   "execution_count": null,
   "metadata": {
    "collapsed": true
   },
   "outputs": [],
   "source": []
  },
  {
   "cell_type": "code",
   "execution_count": null,
   "metadata": {
    "collapsed": true
   },
   "outputs": [],
   "source": []
  }
 ],
 "metadata": {
  "kernelspec": {
   "display_name": "Python 3",
   "language": "python",
   "name": "python3"
  },
  "language_info": {
   "codemirror_mode": {
    "name": "ipython",
    "version": 3
   },
   "file_extension": ".py",
   "mimetype": "text/x-python",
   "name": "python",
   "nbconvert_exporter": "python",
   "pygments_lexer": "ipython3",
   "version": "3.4.3"
  }
 },
 "nbformat": 4,
 "nbformat_minor": 2
}
