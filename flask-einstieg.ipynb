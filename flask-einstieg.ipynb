{
 "cells": [
  {
   "cell_type": "markdown",
   "metadata": {},
   "source": [
    "# Flask: Der Einstieg"
   ]
  },
  {
   "cell_type": "markdown",
   "metadata": {
    "slideshow": {
     "slide_type": "slide"
    }
   },
   "source": [
    "Wir gehen davon aus, dass in unserem System das Modul [Flask](http://flask.pocoo.org/) installiert ist. Wenn Sie mit [Anaconda](https://www.anaconda.com/) arbeiten, können Sie nachsehen, dass es standardmäßig [in den Paketen enthalten ist](https://docs.anaconda.com/anaconda/packages/py3.6_linux-64).\n",
    "\n",
    "Sofern Flask vorhanden ist, können wir es für unsere Anwendung importieren."
   ]
  },
  {
   "cell_type": "code",
   "execution_count": 1,
   "metadata": {
    "collapsed": true
   },
   "outputs": [],
   "source": [
    "from flask import Flask"
   ]
  },
  {
   "cell_type": "markdown",
   "metadata": {},
   "source": [
    "Anschließend erzeugen wir eine Variable, in der wir eine Instanz des Flask-Objekts speichern."
   ]
  },
  {
   "cell_type": "code",
   "execution_count": 2,
   "metadata": {
    "collapsed": true
   },
   "outputs": [],
   "source": [
    "app = Flask(__name__)"
   ]
  },
  {
   "cell_type": "markdown",
   "metadata": {},
   "source": [
    "Nun definieren wir als erstes eine sogenannte *Route*. Wenn unsere Anwendung erkennt, dass die eingebene URL dieser Route entspricht, leitet sie den Request an eine zugehörige Funktion weiter.\n",
    "\n",
    "Die Definition einer Route in Flask folgt einem einfachen Vorgehen. Dabei steht in den Klammern das konkrete Muster, das in der URL vorhanden sein muss. Anschließend folgt die Definition der Funktion, die aufgerufen wird, wenn die Route greift. Diese Funktion sollte einen sinnvollen und selbstdokumentierenden Namen tragen.\n",
    "\n",
    "In diesem Fall gibt der eingebaute Webserver in Flask eine sehr einfache Antwort (*Response*), nämlich nur einen einfachen String. Zu den Grundlagen von *HTTP* und dem Konzept von Anfrage/Antwort (*Request/Response*) vgl. z.B. Meinel & Sack (2004, S. 735 ff.)."
   ]
  },
  {
   "cell_type": "code",
   "execution_count": null,
   "metadata": {
    "collapsed": true
   },
   "outputs": [],
   "source": [
    "# -- Homepage --\n",
    "@app.route(\"/\")\n",
    "def index():\n",
    "    # Response, die an den Browser zurückgeht\n",
    "    return '<a href=\"#\" target=\"_blank\">Bildergalerie</a>'"
   ]
  },
  {
   "cell_type": "markdown",
   "metadata": {},
   "source": [
    "Den Abschluss der Datei bildet in diesem Fall die Startanweisung für unsere Anwendung."
   ]
  },
  {
   "cell_type": "code",
   "execution_count": null,
   "metadata": {},
   "outputs": [
    {
     "name": "stderr",
     "output_type": "stream",
     "text": [
      " * Running on http://0.0.0.0:5000/ (Press CTRL+C to quit)\n",
      "134.28.125.29 - - [07/Nov/2017 09:57:39] \"GET / HTTP/1.1\" 200 -\n",
      "134.28.125.29 - - [07/Nov/2017 10:04:19] \"GET / HTTP/1.1\" 200 -\n",
      "134.28.125.29 - - [07/Nov/2017 10:04:20] \"GET / HTTP/1.1\" 200 -\n",
      "134.28.125.29 - - [07/Nov/2017 10:04:29] \"GET / HTTP/1.1\" 200 -\n"
     ]
    }
   ],
   "source": [
    "if __name__ =='__main__':\n",
    "    app.run(host=\"0.0.0.0\")"
   ]
  },
  {
   "cell_type": "markdown",
   "metadata": {},
   "source": [
    "## Aufgaben\n",
    "\n",
    "- Wie können Sie erreichen, dass die Anwendung eine korrekte HTML-Seite ausgibt, wenn die Homepage aufgerufen wird?\n",
    "- Was müssen Sie tun, um noch eine weitere Seite unter der URL `/team` aufrufen zu können?\n",
    "- Wenn Sie die Website unter http://localhost:5000 aufrufen, loggt der Entwicklungsserver Ihre Aktionen mit (s.o.). Was bedeuten die Informationen in den einzelnen Zeilen?\n",
    "\n",
    "**Tipp:** Erstellen Sie eine Kopie dieses Notebooks, bevor Sie es verändern! Fortgeschrittene können eine Branch in der Versionskontrolle erstellen."
   ]
  },
  {
   "cell_type": "markdown",
   "metadata": {},
   "source": [
    "## Referenzen\n",
    "\n",
    "- Meinel, C. & Sack, H. (2004). WWW: Kommunikation, Internetworking, Web-Technologien. Berlin u.a.: Springer.\n"
   ]
  },
  {
   "cell_type": "markdown",
   "metadata": {},
   "source": [
    "**Anmerkungen:** Damit Änderungen an der Anwendung wirksam werden, ist der Entwicklungsserver von Flask neu zu starten. Dies erfolgt im Kontext von Jupyter Notebook, indem der *Kernel* neu gestartet wird und alle Zellen erneut ausgeführt werden. Ein Abkürzung dafür stellt der Menüeintrag *Kernel -> Restart & Run All* dar. Anschließend ist je nach Leistungsfähigkeit des Hostrechners einige Sekunden zu warten, bis der Entwicklungsserver wieder erreichbar ist."
   ]
  },
  {
   "cell_type": "markdown",
   "metadata": {},
   "source": [
    "---\n",
    "\n",
    "\n",
    "<a href=\"flask-galerie.ipynb\" style=\"display: inline-block; float:right\">nächstes Arbeitsblatt &raquo;</a><a href=\"flask.ipynb\">&laquo; vorheriges Arbeitsblatt</a>"
   ]
  },
  {
   "cell_type": "code",
   "execution_count": null,
   "metadata": {
    "collapsed": true
   },
   "outputs": [],
   "source": []
  }
 ],
 "metadata": {
  "kernelspec": {
   "display_name": "Python 3",
   "language": "python",
   "name": "python3"
  },
  "language_info": {
   "codemirror_mode": {
    "name": "ipython",
    "version": 3
   },
   "file_extension": ".py",
   "mimetype": "text/x-python",
   "name": "python",
   "nbconvert_exporter": "python",
   "pygments_lexer": "ipython3",
   "version": "3.6.1"
  },
  "varInspector": {
   "cols": {
    "lenName": 16,
    "lenType": 16,
    "lenVar": 40
   },
   "kernels_config": {
    "python": {
     "delete_cmd_postfix": "",
     "delete_cmd_prefix": "del ",
     "library": "var_list.py",
     "varRefreshCmd": "print(var_dic_list())"
    },
    "r": {
     "delete_cmd_postfix": ") ",
     "delete_cmd_prefix": "rm(",
     "library": "var_list.r",
     "varRefreshCmd": "cat(var_dic_list()) "
    }
   },
   "position": {
    "height": "145px",
    "left": "591px",
    "right": "18px",
    "top": "120px",
    "width": "350px"
   },
   "types_to_exclude": [
    "module",
    "function",
    "builtin_function_or_method",
    "instance",
    "_Feature"
   ],
   "window_display": false
  }
 },
 "nbformat": 4,
 "nbformat_minor": 2
}
