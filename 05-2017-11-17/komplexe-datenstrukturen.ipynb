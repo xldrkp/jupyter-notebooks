{
 "cells": [
  {
   "cell_type": "markdown",
   "metadata": {
    "slideshow": {
     "slide_type": "slide"
    }
   },
   "source": [
    "# Komplexe Datenstrukturen filtern\n",
    "\n",
    "Die Inhalte dynamischer Webseiten werden häufig nach bestimmten Regeln generiert. Diese Regeln werden durch Programmierer_innen festgelegt und beim Aufruf einer Seite ausgeführt."
   ]
  },
  {
   "cell_type": "markdown",
   "metadata": {
    "slideshow": {
     "slide_type": "slide"
    }
   },
   "source": [
    "## Beispiel: Suchmaschine\n",
    "\n",
    "Ein bekanntes Beispiel sind Suchmaschinen: Die Eingabe der Suchbegriffe entscheidet darüber, wie die Inhalte der Seite nach der Antwort des Servers aussehen."
   ]
  },
  {
   "cell_type": "code",
   "execution_count": 1,
   "metadata": {
    "slideshow": {
     "slide_type": "subslide"
    }
   },
   "outputs": [
    {
     "data": {
      "text/html": [
       "\n",
       "        <iframe\n",
       "            width=\"100%\"\n",
       "            height=\"300\"\n",
       "            src=\"https://duckduckgo.com\"\n",
       "            frameborder=\"0\"\n",
       "            allowfullscreen\n",
       "        ></iframe>\n",
       "        "
      ],
      "text/plain": [
       "<IPython.lib.display.IFrame at 0x7f4f1af6de10>"
      ]
     },
     "execution_count": 1,
     "metadata": {},
     "output_type": "execute_result"
    }
   ],
   "source": [
    "from IPython.display import IFrame\n",
    "IFrame(\"https://duckduckgo.com\", width=\"100%\", height=300)"
   ]
  },
  {
   "cell_type": "markdown",
   "metadata": {
    "slideshow": {
     "slide_type": "notes"
    }
   },
   "source": [
    "Die eingebenen Suchbegriffe werden mit dem HTTP-Request zum Server des Suchmaschinenbetreibers geschickt. Dort wird eine Abfrage an dessen Datenbank gestellt, die rohe Daten zurückliefert. Mit den Suchbegriffen wird also die gesamte Menge der Daten in der Datenbank gefiltert. Es kommen nur die Daten zurück, zu denen die Suchbegriffe passen.\n",
    "\n",
    "Wir werden das Konzept einer solchen Abfrage im Folgenden an einem einfachen Beispiel nachvollziehen. Dafür bauen wir uns zunächst eine entsprechende Datenbankstruktur auf, ohne gleich ein [Datenbankmanagementsystem](https://de.wikipedia.org/wiki/Datenbank#Datenbankmanagementsystem) wie [SQLite](https://www.sqlite.org/), [MySQL](https://www.mysql.com/) oder [MongoDB](http://mongodb.com/) einzusetzen."
   ]
  },
  {
   "cell_type": "markdown",
   "metadata": {
    "slideshow": {
     "slide_type": "slide"
    }
   },
   "source": [
    "## Dictionarys in Python\n",
    "\n",
    "Der Datentyp [Dictionary](https://www.python-kurs.eu/python3_dictionaries.php) lässt sich mit \"Verzeichnis\" übersetzen. Dieses kann beliebig umfangreich sein, ergänzt und durchsucht werden. Visuelles Merkmal für Dictionarys ist die geschweifte Klammer."
   ]
  },
  {
   "cell_type": "code",
   "execution_count": 2,
   "metadata": {
    "collapsed": true,
    "slideshow": {
     "slide_type": "subslide"
    }
   },
   "outputs": [],
   "source": [
    "tier = {\n",
    "    \"art\": \"Hund\",\n",
    "    \"alter\": 4, \n",
    "    \"farbe\": \"braun\"\n",
    "}"
   ]
  },
  {
   "cell_type": "markdown",
   "metadata": {
    "slideshow": {
     "slide_type": "subslide"
    }
   },
   "source": [
    "Die Ausgabe des gesamten Dictionarys erledigen wir wieder mit `print()`"
   ]
  },
  {
   "cell_type": "code",
   "execution_count": 3,
   "metadata": {
    "slideshow": {
     "slide_type": "fragment"
    }
   },
   "outputs": [
    {
     "name": "stdout",
     "output_type": "stream",
     "text": [
      "{'art': 'Hund', 'alter': 4, 'farbe': 'braun'}\n"
     ]
    }
   ],
   "source": [
    "print(tier)"
   ]
  },
  {
   "cell_type": "markdown",
   "metadata": {
    "slideshow": {
     "slide_type": "subslide"
    }
   },
   "source": [
    "Einzelne Daten des Dictionarys können wir mit dem **Indexoperator** ansprechen:"
   ]
  },
  {
   "cell_type": "code",
   "execution_count": 4,
   "metadata": {
    "slideshow": {
     "slide_type": "fragment"
    }
   },
   "outputs": [
    {
     "name": "stdout",
     "output_type": "stream",
     "text": [
      "4\n"
     ]
    }
   ],
   "source": [
    "print(tier[\"alter\"])"
   ]
  },
  {
   "cell_type": "markdown",
   "metadata": {
    "slideshow": {
     "slide_type": "skip"
    }
   },
   "source": [
    "Versuchen Sie es selbst: Geben Sie die Farbe des Hundes aus!"
   ]
  },
  {
   "cell_type": "code",
   "execution_count": 5,
   "metadata": {
    "collapsed": true,
    "slideshow": {
     "slide_type": "skip"
    }
   },
   "outputs": [],
   "source": [
    "# Ihr Code"
   ]
  },
  {
   "cell_type": "markdown",
   "metadata": {
    "slideshow": {
     "slide_type": "subslide"
    }
   },
   "source": [
    "Wir können das Dictionary auch verändern und erweitern:"
   ]
  },
  {
   "cell_type": "code",
   "execution_count": 6,
   "metadata": {
    "collapsed": true,
    "slideshow": {
     "slide_type": "fragment"
    }
   },
   "outputs": [],
   "source": [
    "tier[\"alter\"] = 5 # Änderung"
   ]
  },
  {
   "cell_type": "code",
   "execution_count": 7,
   "metadata": {
    "slideshow": {
     "slide_type": "fragment"
    }
   },
   "outputs": [
    {
     "name": "stdout",
     "output_type": "stream",
     "text": [
      "5\n"
     ]
    }
   ],
   "source": [
    "print(tier[\"alter\"])"
   ]
  },
  {
   "cell_type": "code",
   "execution_count": 8,
   "metadata": {
    "collapsed": true,
    "slideshow": {
     "slide_type": "fragment"
    }
   },
   "outputs": [],
   "source": [
    "tier[\"herkunft\"] = \"Österreich\" # Erweiterung"
   ]
  },
  {
   "cell_type": "code",
   "execution_count": 9,
   "metadata": {
    "slideshow": {
     "slide_type": "fragment"
    }
   },
   "outputs": [
    {
     "name": "stdout",
     "output_type": "stream",
     "text": [
      "{'art': 'Hund', 'alter': 5, 'farbe': 'braun', 'herkunft': 'Österreich'}\n"
     ]
    }
   ],
   "source": [
    "print(tier)"
   ]
  },
  {
   "cell_type": "markdown",
   "metadata": {
    "slideshow": {
     "slide_type": "slide"
    }
   },
   "source": [
    "### Mehrere Dictionarys gleicher Struktur speichern\n",
    "\n",
    "Mal angenommen, wir haben wieder ein Tierheim zu verwalten: Wie erreichen wir es, die Daten mehrerer Tiere mit diesen Angaben zu speichern?"
   ]
  },
  {
   "cell_type": "markdown",
   "metadata": {
    "slideshow": {
     "slide_type": "subslide"
    }
   },
   "source": [
    "Wir speichern mehrere Dictionarys in einer Liste:"
   ]
  },
  {
   "cell_type": "code",
   "execution_count": 10,
   "metadata": {
    "collapsed": true,
    "slideshow": {
     "slide_type": "fragment"
    }
   },
   "outputs": [],
   "source": [
    "tiere = [\n",
    "    {\n",
    "        \"art\": \"Hund\",\n",
    "        \"alter\": 4,\n",
    "        \"farbe\": \"braun\"\n",
    "    },\n",
    "    {\n",
    "        \"art\": \"Katze\",\n",
    "        \"alter\": 9,\n",
    "        \"farbe\": \"schwarz\"\n",
    "    }\n",
    "]"
   ]
  },
  {
   "cell_type": "markdown",
   "metadata": {
    "slideshow": {
     "slide_type": "subslide"
    }
   },
   "source": [
    "Wie kommen wir nun an die einzelnen Daten heran? Schauen wir uns zunächst die Ausgabe der Liste an:"
   ]
  },
  {
   "cell_type": "code",
   "execution_count": 11,
   "metadata": {
    "slideshow": {
     "slide_type": "fragment"
    }
   },
   "outputs": [
    {
     "name": "stdout",
     "output_type": "stream",
     "text": [
      "[{'art': 'Hund', 'alter': 4, 'farbe': 'braun'}, {'art': 'Katze', 'alter': 9, 'farbe': 'schwarz'}]\n"
     ]
    }
   ],
   "source": [
    "print(tiere)"
   ]
  },
  {
   "cell_type": "markdown",
   "metadata": {
    "slideshow": {
     "slide_type": "subslide"
    }
   },
   "source": [
    "Die Speicherplätze oder *Indizes* in einer Liste lassen sich - **von `0` an gezählt** - numerisch ansprechen:"
   ]
  },
  {
   "cell_type": "code",
   "execution_count": 12,
   "metadata": {
    "slideshow": {
     "slide_type": "fragment"
    }
   },
   "outputs": [
    {
     "name": "stdout",
     "output_type": "stream",
     "text": [
      "{'art': 'Hund', 'alter': 4, 'farbe': 'braun'}\n"
     ]
    }
   ],
   "source": [
    "print(tiere[0])"
   ]
  },
  {
   "cell_type": "markdown",
   "metadata": {
    "slideshow": {
     "slide_type": "subslide"
    }
   },
   "source": [
    "Ein Kombination beider Schreibweisen zur Ansprache von Listen und Dictionarys verschafft uns Zugang zu den einzelnen Daten:"
   ]
  },
  {
   "cell_type": "code",
   "execution_count": 13,
   "metadata": {
    "slideshow": {
     "slide_type": "fragment"
    }
   },
   "outputs": [
    {
     "name": "stdout",
     "output_type": "stream",
     "text": [
      "4\n"
     ]
    }
   ],
   "source": [
    "print(tiere[0][\"alter\"])"
   ]
  },
  {
   "cell_type": "markdown",
   "metadata": {
    "slideshow": {
     "slide_type": "subslide"
    }
   },
   "source": [
    "Großartig! Nun können wir eine Schleife verwenden, um die Daten nacheinander auszugeben. Dabei übernimmt die Schleife das Durchzählen der Datensätze in unserem Dictionary, womit sich die Adressierung der Daten etwas vereinfacht:"
   ]
  },
  {
   "cell_type": "markdown",
   "metadata": {},
   "source": [
    "## Daten mit einer Schleife ausgeben"
   ]
  },
  {
   "cell_type": "code",
   "execution_count": 14,
   "metadata": {
    "slideshow": {
     "slide_type": "fragment"
    }
   },
   "outputs": [
    {
     "name": "stdout",
     "output_type": "stream",
     "text": [
      "Hund\n",
      "Katze\n"
     ]
    }
   ],
   "source": [
    "for tier in tiere:\n",
    "    print(tier[\"art\"])"
   ]
  },
  {
   "cell_type": "markdown",
   "metadata": {},
   "source": [
    "[**Warum eigentlich einrücken?**](https://www.python-kurs.eu/python3_bloecke.php)\n",
    "\n",
    "In Python sind manche Einrückungen optional, einige obligarisch. Optional ist z.B. die Formatierung von Listen und Dictionarys, hier geht es um bessere Lesbarkeit durch Einrückung.\n",
    "\n",
    "Obligatorisch sind hingegen die Einrückungen bei bestimmten Konstrukten wie Schleifen, if-Anweisungen und Funktionsdefinitionen. Machen wir uns das an einem Beispiel klar. Die gleiche Schleife wie zuvor, aber mit einer zusätzlichen Linie, die ausgegeben werden soll:"
   ]
  },
  {
   "cell_type": "code",
   "execution_count": 15,
   "metadata": {
    "slideshow": {
     "slide_type": "fragment"
    }
   },
   "outputs": [
    {
     "name": "stdout",
     "output_type": "stream",
     "text": [
      "Hund\n",
      "-----------------\n",
      "Katze\n",
      "-----------------\n"
     ]
    }
   ],
   "source": [
    "for tier in tiere:\n",
    "    print(tier[\"art\"])\n",
    "    print(\"-----------------\")"
   ]
  },
  {
   "cell_type": "markdown",
   "metadata": {},
   "source": [
    "Beobachtung: Die Linie wird nach jedem Tier ausgegeben.  \n",
    "Erklärung: Durch die Einrückung unter dem Schleifenkopf \"weiß\" Python, dass auch diese Anweisung in der Schleife ausgeführt werden soll."
   ]
  },
  {
   "cell_type": "code",
   "execution_count": 16,
   "metadata": {
    "slideshow": {
     "slide_type": "fragment"
    }
   },
   "outputs": [
    {
     "name": "stdout",
     "output_type": "stream",
     "text": [
      "Hund\n",
      "Katze\n",
      "-----------------\n"
     ]
    }
   ],
   "source": [
    "for tier in tiere:\n",
    "    print(tier[\"art\"])\n",
    "print(\"-----------------\")"
   ]
  },
  {
   "cell_type": "markdown",
   "metadata": {},
   "source": [
    "Beobachtung: Die Linie wird nur am Ende der Ausgabe einmal ausgegeben.  \n",
    "Erklärung: Zeile 3 ist nicht mehr eingerückt, dadurch zählt die Anweisung auch nicht mehr zur Schleife."
   ]
  },
  {
   "cell_type": "markdown",
   "metadata": {
    "slideshow": {
     "slide_type": "slide"
    }
   },
   "source": [
    "## Daten bei der Ausgabe filtern\n",
    "\n",
    "Tun wir einmal so, als würden uns für die Ausgabe nur bestimmte Tiere aus der Datenbank interessieren. Um einen Filter setzen zu können, müssen zwei Bedingungen erfüllt sein:\n",
    "\n",
    "1. Die Daten müssen Merkmale aufweisen, nach denen sich filtern lässt.\n",
    "1. Der Filter muss gesetzt sein.\n",
    "\n",
    "Um das zu zeigen, erweitern wir unsere Tierdatenbank ein wenig. Das tun wir, indem wir die Methode `append()` (\"anhängen\") auf dem Listenobjekt aufrufen: "
   ]
  },
  {
   "cell_type": "code",
   "execution_count": 17,
   "metadata": {
    "collapsed": true,
    "slideshow": {
     "slide_type": "subslide"
    }
   },
   "outputs": [],
   "source": [
    "tiere.append(\n",
    "    {\n",
    "        \"art\": \"Krokodil\",\n",
    "        \"alter\": 42,\n",
    "        \"farbe\": \"grün\"\n",
    "    }\n",
    ")\n",
    "\n",
    "tiere.append(\n",
    "    {\n",
    "        \"art\": \"Löwe\",\n",
    "        \"alter\": 14,\n",
    "        \"farbe\": \"gelb\"\n",
    "    }\n",
    ")"
   ]
  },
  {
   "cell_type": "markdown",
   "metadata": {
    "slideshow": {
     "slide_type": "subslide"
    }
   },
   "source": [
    "Nun fügen wir den vier Tieren noch ein Merkmal für das Geschlecht hinzu:"
   ]
  },
  {
   "cell_type": "code",
   "execution_count": 18,
   "metadata": {
    "collapsed": true,
    "slideshow": {
     "slide_type": "fragment"
    }
   },
   "outputs": [],
   "source": [
    "tiere[0][\"geschlecht\"] = \"m\"\n",
    "tiere[1][\"geschlecht\"] = \"w\"\n",
    "tiere[2][\"geschlecht\"] = \"w\"\n",
    "tiere[3][\"geschlecht\"] = \"m\""
   ]
  },
  {
   "cell_type": "code",
   "execution_count": 19,
   "metadata": {
    "slideshow": {
     "slide_type": "fragment"
    }
   },
   "outputs": [
    {
     "name": "stdout",
     "output_type": "stream",
     "text": [
      "[{'art': 'Hund', 'alter': 4, 'farbe': 'braun', 'geschlecht': 'm'}, {'art': 'Katze', 'alter': 9, 'farbe': 'schwarz', 'geschlecht': 'w'}, {'art': 'Krokodil', 'alter': 42, 'farbe': 'grün', 'geschlecht': 'w'}, {'art': 'Löwe', 'alter': 14, 'farbe': 'gelb', 'geschlecht': 'm'}]\n"
     ]
    }
   ],
   "source": [
    "print(tiere)"
   ]
  },
  {
   "cell_type": "markdown",
   "metadata": {
    "slideshow": {
     "slide_type": "subslide"
    }
   },
   "source": [
    "Die Datenbank ist ja nun schon einigermaßen umfangreich! Lassen wir wieder unsere Schleife über die Daten laufen, können wir einen Filter einbauen. Wir erkundigen uns nach dem Wert eines bestimmten Bezeichners des aktuellen Datensatzes in der Schleife und treffen eine **Entscheidung**:"
   ]
  },
  {
   "cell_type": "code",
   "execution_count": 20,
   "metadata": {
    "slideshow": {
     "slide_type": "fragment"
    }
   },
   "outputs": [
    {
     "name": "stdout",
     "output_type": "stream",
     "text": [
      "{'art': 'Hund', 'alter': 4, 'farbe': 'braun', 'geschlecht': 'm'}\n",
      "{'art': 'Löwe', 'alter': 14, 'farbe': 'gelb', 'geschlecht': 'm'}\n"
     ]
    }
   ],
   "source": [
    "for tier in tiere:\n",
    "    if tier[\"geschlecht\"] == \"m\":\n",
    "        print(tier)"
   ]
  },
  {
   "cell_type": "markdown",
   "metadata": {},
   "source": [
    "### Dictionarys in Liste = Tabelle\n",
    "\n",
    "Die Datenstruktur, die wir bis hierhin aufgebaut und in der Variablen `tiere` gespeichert haben, entspricht einer **Tabelle**. Dabei ist jedes Element der Liste eine **Zeile** der Tabelle - Unterschied: Die Zählung der Zeilen beginnt bei `0`. Die Schlüssel (*keys*) der Dictionarys hingegen entsprechen den **Spalten** der Tabelle. "
   ]
  },
  {
   "cell_type": "markdown",
   "metadata": {},
   "source": [
    "![Tabelle](img/Tabelle.png)"
   ]
  },
  {
   "cell_type": "markdown",
   "metadata": {
    "slideshow": {
     "slide_type": "slide"
    }
   },
   "source": [
    "## Entscheidungen treffen\n",
    "\n",
    "Unser Filter basiert auf einer [if-Anweisung](https://www.python-kurs.eu/python3_bedingte_anweisungen.php). Der Ausgabebefehl in Zeile 3 ist daher eine *bedingte Anweisung*, da sie nur ausgeführt wird, wenn die in Zeile 2 formulierte Bedingung erfüllt ist. Das ist das Potenzial der if-Anweisung: Sie ermöglicht es uns, **Entscheidungen** in unserem Programm zu treffen. Ein anderer Begriff dafür ist **Verzweigung**."
   ]
  },
  {
   "cell_type": "markdown",
   "metadata": {
    "slideshow": {
     "slide_type": "subslide"
    }
   },
   "source": [
    "Filtern wir unsere Daten erneut: Uns interessieren nur die Tiere, die älter sind als zehn Jahre:"
   ]
  },
  {
   "cell_type": "code",
   "execution_count": 21,
   "metadata": {
    "slideshow": {
     "slide_type": "fragment"
    }
   },
   "outputs": [
    {
     "name": "stdout",
     "output_type": "stream",
     "text": [
      "{'art': 'Krokodil', 'alter': 42, 'farbe': 'grün', 'geschlecht': 'w'}\n",
      "{'art': 'Löwe', 'alter': 14, 'farbe': 'gelb', 'geschlecht': 'm'}\n"
     ]
    }
   ],
   "source": [
    "for tier in tiere:\n",
    "    if tier[\"alter\"] >= 10:\n",
    "        print(tier)"
   ]
  },
  {
   "cell_type": "markdown",
   "metadata": {
    "slideshow": {
     "slide_type": "subslide"
    }
   },
   "source": [
    "Filterkriterien lassen sich mit [logischen Operatoren](https://www.python-kurs.eu/python3_operatoren.php) auch kombinieren:"
   ]
  },
  {
   "cell_type": "code",
   "execution_count": 22,
   "metadata": {
    "slideshow": {
     "slide_type": "fragment"
    }
   },
   "outputs": [
    {
     "name": "stdout",
     "output_type": "stream",
     "text": [
      "{'art': 'Löwe', 'alter': 14, 'farbe': 'gelb', 'geschlecht': 'm'}\n"
     ]
    }
   ],
   "source": [
    "for tier in tiere:\n",
    "    if tier[\"alter\"] >= 10 and tier[\"geschlecht\"] == \"m\":\n",
    "        print(tier) "
   ]
  },
  {
   "cell_type": "markdown",
   "metadata": {
    "slideshow": {
     "slide_type": "slide"
    }
   },
   "source": [
    "## Abschließende Überlegungen\n",
    "\n",
    "Um die Idee einer Suchmaschine zu implementieren, ist es nun kein weiter Weg mehr: Es fehlt noch ein Benutzerinterface, über das die Eingabe der Kriterien erfolgen kann, mit denen die Abfrage an unsere Datenbank gestellt wird. Hier bieten sich HTML-Formulare an."
   ]
  },
  {
   "cell_type": "markdown",
   "metadata": {
    "slideshow": {
     "slide_type": "slide"
    }
   },
   "source": [
    "## Aufgaben\n",
    "\n",
    "1. Erweitern Sie die Tierdatenbank um eine Bildinformation für jedes Tier!\n",
    "1. Der Löwe hat heute Geburtstag und ist nun ein Jahr älter. Ändern Sie den entsprechenden Wert in der Datenbank.\n",
    "1. Das Krokodil hat ein neues Zuhause gefunden. Löschen Sie seinen Datensatz mit `del`.\n",
    "1. Erstellen Sie ein HTML-Fragment, das ein Bild eines jeden Tieres zusammen mit seinen Daten zeigt.\n",
    "1. Setzen Sie die dynamische Generierung des HTML mit Python um. Nutzen Sie die Daten aus dem Tierheim-Beispiel oder eigene."
   ]
  },
  {
   "cell_type": "markdown",
   "metadata": {
    "slideshow": {
     "slide_type": "skip"
    }
   },
   "source": [
    "### Aufgabe 1:"
   ]
  },
  {
   "cell_type": "code",
   "execution_count": 23,
   "metadata": {
    "collapsed": true,
    "slideshow": {
     "slide_type": "skip"
    }
   },
   "outputs": [],
   "source": [
    "# Ihre Lösung"
   ]
  },
  {
   "cell_type": "markdown",
   "metadata": {
    "slideshow": {
     "slide_type": "skip"
    }
   },
   "source": [
    "### Aufgabe 2"
   ]
  },
  {
   "cell_type": "code",
   "execution_count": 24,
   "metadata": {
    "collapsed": true,
    "slideshow": {
     "slide_type": "skip"
    }
   },
   "outputs": [],
   "source": [
    "# Ihre Lösung"
   ]
  },
  {
   "cell_type": "markdown",
   "metadata": {
    "slideshow": {
     "slide_type": "skip"
    }
   },
   "source": [
    "### Aufgabe 3"
   ]
  },
  {
   "cell_type": "code",
   "execution_count": 25,
   "metadata": {
    "collapsed": true,
    "slideshow": {
     "slide_type": "skip"
    }
   },
   "outputs": [],
   "source": [
    "# Ihre Lösung"
   ]
  },
  {
   "cell_type": "markdown",
   "metadata": {
    "slideshow": {
     "slide_type": "skip"
    }
   },
   "source": [
    "### Aufgabe 4"
   ]
  },
  {
   "cell_type": "code",
   "execution_count": 26,
   "metadata": {
    "collapsed": true,
    "slideshow": {
     "slide_type": "skip"
    }
   },
   "outputs": [],
   "source": [
    "# Ihre Lösung"
   ]
  },
  {
   "cell_type": "markdown",
   "metadata": {
    "slideshow": {
     "slide_type": "skip"
    }
   },
   "source": [
    "### Aufgabe 5"
   ]
  },
  {
   "cell_type": "code",
   "execution_count": 27,
   "metadata": {
    "collapsed": true,
    "slideshow": {
     "slide_type": "skip"
    }
   },
   "outputs": [],
   "source": [
    "# Ihre Lösung"
   ]
  }
 ],
 "metadata": {
  "kernelspec": {
   "display_name": "Python 3",
   "language": "python",
   "name": "python3"
  },
  "language_info": {
   "codemirror_mode": {
    "name": "ipython",
    "version": 3
   },
   "file_extension": ".py",
   "mimetype": "text/x-python",
   "name": "python",
   "nbconvert_exporter": "python",
   "pygments_lexer": "ipython3",
   "version": "3.6.1"
  },
  "toc": {
   "nav_menu": {
    "height": "93px",
    "width": "213px"
   },
   "number_sections": true,
   "sideBar": true,
   "skip_h1_title": true,
   "toc_cell": false,
   "toc_position": {
    "height": "841px",
    "left": "0px",
    "right": "1706px",
    "top": "107px",
    "width": "212px"
   },
   "toc_section_display": "block",
   "toc_window_display": false
  },
  "varInspector": {
   "cols": {
    "lenName": 16,
    "lenType": 16,
    "lenVar": 40
   },
   "kernels_config": {
    "python": {
     "delete_cmd_postfix": "",
     "delete_cmd_prefix": "del ",
     "library": "var_list.py",
     "varRefreshCmd": "print(var_dic_list())"
    },
    "r": {
     "delete_cmd_postfix": ") ",
     "delete_cmd_prefix": "rm(",
     "library": "var_list.r",
     "varRefreshCmd": "cat(var_dic_list()) "
    }
   },
   "types_to_exclude": [
    "module",
    "function",
    "builtin_function_or_method",
    "instance",
    "_Feature"
   ],
   "window_display": false
  }
 },
 "nbformat": 4,
 "nbformat_minor": 2
}
