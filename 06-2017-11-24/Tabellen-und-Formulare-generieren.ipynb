{
 "cells": [
  {
   "cell_type": "markdown",
   "metadata": {},
   "source": [
    "# Dynamische Generierung von HTML\n",
    "\n",
    "In diesem Notebook schauen wir uns weitere Beispiele an, die zeigen sollen, wie sich mit serverseitigen Skriptsprachen dynamisch HTML generieren lässt. Zunächst definieren wir eine Variable, die die Daten enthält. Anschließend generieren wir im ersten Beispiel eine HTML-Tabelle daraus, im zweiten Beispiel ein Formular."
   ]
  },
  {
   "cell_type": "markdown",
   "metadata": {},
   "source": [
    "## Daten und Datenstruktur: Dictionarys in einer Liste\n",
    "\n",
    "Wie auch schon an anderer Stelle gezeigt, lassen sich Tabellen relationaler Datenbanken in Python sehr gut mit einer Kombination aus Dictionarys in Listen simulieren. Die Dictionarys übernehmen dabei die Rolle der \"Zeilen\" der Tabelle, besser: die der Datensätze. Für unsere Beispiele legen wir folgende Daten zugrunde:"
   ]
  },
  {
   "cell_type": "code",
   "execution_count": 28,
   "metadata": {
    "collapsed": true
   },
   "outputs": [],
   "source": [
    "Mitglieder = [\n",
    "    {\n",
    "        \"alter\": 9,\n",
    "        \"name\": \"Nele\"\n",
    "    },\n",
    "    {\n",
    "        \"alter\": 11,\n",
    "        \"name\": \"Alex\"\n",
    "    },\n",
    "    {\n",
    "        \"alter\": 8,\n",
    "        \"name\": \"Mara\"\n",
    "    },\n",
    "    {\n",
    "        \"alter\": 10,\n",
    "        \"name\": \"Robin\"\n",
    "    }\n",
    "]"
   ]
  },
  {
   "cell_type": "markdown",
   "metadata": {},
   "source": [
    "## Beispiel 1: HTML-Tabelle ausgeben\n",
    "\n",
    "Unser Ziel ist es, aus diesen Daten die folgende Tabelle dynamisch zu generieren:"
   ]
  },
  {
   "cell_type": "markdown",
   "metadata": {},
   "source": [
    "<table>\n",
    "    <tr>\n",
    "        <th>Name</th><th>Alter</th>\n",
    "    </tr>\n",
    "    <tr>\n",
    "        <td>Nele</td><td>9</td>\n",
    "    </tr>\n",
    "    <tr>\n",
    "        <td>Alex</td><td>11</td>\n",
    "    </tr>\n",
    "    <tr>\n",
    "        <td>Mara</td><td>8</td>\n",
    "    </tr>\n",
    "    <tr>\n",
    "        <td>Robin</td><td>10\n",
    "        </td>\n",
    "    </tr>\n",
    "</table>"
   ]
  },
  {
   "cell_type": "markdown",
   "metadata": {},
   "source": [
    "Die Grundlage dafür ist das folgende HTML-Fragment:"
   ]
  },
  {
   "cell_type": "markdown",
   "metadata": {},
   "source": [
    "```html\n",
    "<table>\n",
    "    <tr>\n",
    "        <th>Name</th><th>Alter</th>\n",
    "    </tr>\n",
    "    <tr>\n",
    "        <td>Nele</td><td>9</td>\n",
    "    </tr>\n",
    "    <tr>\n",
    "        <td>Alex</td><td>11</td>\n",
    "    </tr>\n",
    "    <tr>\n",
    "        <td>Mara</td><td>8</td>\n",
    "    </tr>\n",
    "    <tr>\n",
    "        <td>Robin</td><td>10</td>\n",
    "    </tr>\n",
    "</table>\n",
    "```"
   ]
  },
  {
   "cell_type": "markdown",
   "metadata": {},
   "source": [
    "Wie schon in einem vorherigen Notebook gesagt, ist es immer sinnvoll, das zu generierende HTML zuvor hinzuschreiben und auch mit CSS wie gewünscht zu formatieren. Das erleichtert das Programmieren später enorm."
   ]
  },
  {
   "cell_type": "code",
   "execution_count": 29,
   "metadata": {},
   "outputs": [
    {
     "name": "stdout",
     "output_type": "stream",
     "text": [
      "[{'alter': 9, 'name': 'Nele'}, {'alter': 11, 'name': 'Alex'}, {'alter': 8, 'name': 'Mara'}, {'alter': 10, 'name': 'Robin'}]\n"
     ]
    }
   ],
   "source": [
    "print(Mitglieder)"
   ]
  },
  {
   "cell_type": "code",
   "execution_count": 30,
   "metadata": {},
   "outputs": [
    {
     "name": "stdout",
     "output_type": "stream",
     "text": [
      "Nele 9\n",
      "Alex 11\n",
      "Mara 8\n",
      "Robin 10\n"
     ]
    }
   ],
   "source": [
    "for Mitglied in Mitglieder:\n",
    "    print(Mitglied[\"name\"], Mitglied[\"alter\"])"
   ]
  },
  {
   "cell_type": "markdown",
   "metadata": {},
   "source": [
    "Soweit, sogut, wir können die Daten mit einer for-Schleife ausgeben. Es fehlt ihn aber noch die \"HTML-Verkleidung\", mit der sie als HTML-Tabelle dargestellt werden können."
   ]
  },
  {
   "cell_type": "markdown",
   "metadata": {},
   "source": [
    "Wir nutzen wieder das Wrapper-Konzept, das eine HTML-Hülle beliebiger Komplexität vorsieht, in der einer oder mehrere Platzhalter untergebracht sind:"
   ]
  },
  {
   "cell_type": "code",
   "execution_count": 31,
   "metadata": {
    "collapsed": true
   },
   "outputs": [],
   "source": [
    "row_wrapper = \"<tr><td>{}</td><td>{}</td></tr>\""
   ]
  },
  {
   "cell_type": "code",
   "execution_count": 32,
   "metadata": {},
   "outputs": [
    {
     "name": "stdout",
     "output_type": "stream",
     "text": [
      "<tr><td>Nele</td><td>9</td></tr>\n",
      "<tr><td>Alex</td><td>11</td></tr>\n",
      "<tr><td>Mara</td><td>8</td></tr>\n",
      "<tr><td>Robin</td><td>10</td></tr>\n"
     ]
    }
   ],
   "source": [
    "for Mitglied in Mitglieder:\n",
    "    print(row_wrapper.format(Mitglied[\"name\"], Mitglied[\"alter\"]))"
   ]
  },
  {
   "cell_type": "markdown",
   "metadata": {},
   "source": [
    "Jetzt fehlt noch die Hülle um die gesamte Tabelle. Dort hinein kleiden wir zum Schluss die generierten Zeilen der Tabelle."
   ]
  },
  {
   "cell_type": "code",
   "execution_count": 33,
   "metadata": {
    "collapsed": true
   },
   "outputs": [],
   "source": [
    "table_wrapper = \"<table>{}</table>\"\n",
    "\n",
    "row_wrapper = \"<tr><td>{}</td><td>{}</td></tr>\"\n",
    "\n",
    "table_order = \"\"\n",
    "\n",
    "for Mitglied in Mitglieder:\n",
    "    if Mitglied[\"alter\"] < eingabe:\n",
    "        table_order = table_order + row_wrapper.format(Mitglied[\"name\"], Mitglied[\"alter\"])\n",
    "\n",
    "table = table_wrapper.format(table_order)"
   ]
  },
  {
   "cell_type": "code",
   "execution_count": 34,
   "metadata": {},
   "outputs": [
    {
     "data": {
      "text/html": [
       "<table><tr><td>Nele</td><td>9</td></tr><tr><td>Mara</td><td>8</td></tr><tr><td>Robin</td><td>10</td></tr></table>"
      ],
      "text/plain": [
       "<IPython.core.display.HTML object>"
      ]
     },
     "execution_count": 34,
     "metadata": {},
     "output_type": "execute_result"
    }
   ],
   "source": [
    "from IPython.display import HTML\n",
    "\n",
    "HTML(table)"
   ]
  },
  {
   "cell_type": "markdown",
   "metadata": {
    "collapsed": true
   },
   "source": [
    "## Beispiel 2: Formulare generieren\n",
    "\n",
    "Auf der Basis von Daten aus einer Liste oder aus einer Datenbank können auch Formulare generiert werden. Z.B. eine Dropdown-Liste mit den Namen der Kinder. (vgl. dazu auch https://www.w3schools.com/html/html_form_elements.asp)."
   ]
  },
  {
   "cell_type": "code",
   "execution_count": 26,
   "metadata": {
    "collapsed": true
   },
   "outputs": [],
   "source": [
    "form_wrapper = \"\"\"\n",
    "<form action='http://localhost'>{}\n",
    "    <p>\n",
    "        <input type='submit'></input>\n",
    "    </p>\n",
    "</form>\n",
    "\"\"\"\n",
    "\n",
    "dropdown_wrapper = \"<select name='person'>{}</select>\"\n",
    "\n",
    "option_wrapper = \"<option value='{}'>{}</option>\"\n",
    "\n",
    "form_order = \"\"\n",
    "\n",
    "for Mitglied in Mitglieder:\n",
    "    form_order = form_order + option_wrapper.format(Mitglied[\"name\"], Mitglied[\"name\"])\n",
    "\n",
    "form = form_wrapper.format(dropdown_wrapper.format(form_order))"
   ]
  },
  {
   "cell_type": "code",
   "execution_count": 27,
   "metadata": {},
   "outputs": [
    {
     "data": {
      "text/html": [
       "\n",
       "<form action='http://localhost'><select name='person'><option value='Nele'>Nele</option><option value='Alex'>Alex</option><option value='Mara'>Mara</option><option value='Robin'>Robin</option></select>\n",
       "    <p>\n",
       "        <input type='submit'></input>\n",
       "    </p>\n",
       "</form>\n"
      ],
      "text/plain": [
       "<IPython.core.display.HTML object>"
      ]
     },
     "execution_count": 27,
     "metadata": {},
     "output_type": "execute_result"
    }
   ],
   "source": [
    "HTML(form)"
   ]
  },
  {
   "cell_type": "code",
   "execution_count": null,
   "metadata": {
    "collapsed": true
   },
   "outputs": [],
   "source": []
  }
 ],
 "metadata": {
  "kernelspec": {
   "display_name": "Python 3",
   "language": "python",
   "name": "python3"
  },
  "language_info": {
   "codemirror_mode": {
    "name": "ipython",
    "version": 3
   },
   "file_extension": ".py",
   "mimetype": "text/x-python",
   "name": "python",
   "nbconvert_exporter": "python",
   "pygments_lexer": "ipython3",
   "version": "3.6.1"
  },
  "toc": {
   "nav_menu": {},
   "number_sections": true,
   "sideBar": true,
   "skip_h1_title": false,
   "toc_cell": false,
   "toc_position": {},
   "toc_section_display": "none",
   "toc_window_display": false
  },
  "varInspector": {
   "cols": {
    "lenName": 16,
    "lenType": 16,
    "lenVar": 40
   },
   "kernels_config": {
    "python": {
     "delete_cmd_postfix": "",
     "delete_cmd_prefix": "del ",
     "library": "var_list.py",
     "varRefreshCmd": "print(var_dic_list())"
    },
    "r": {
     "delete_cmd_postfix": ") ",
     "delete_cmd_prefix": "rm(",
     "library": "var_list.r",
     "varRefreshCmd": "cat(var_dic_list()) "
    }
   },
   "types_to_exclude": [
    "module",
    "function",
    "builtin_function_or_method",
    "instance",
    "_Feature"
   ],
   "window_display": false
  }
 },
 "nbformat": 4,
 "nbformat_minor": 2
}
