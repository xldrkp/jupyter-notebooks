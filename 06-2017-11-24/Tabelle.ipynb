{
 "cells": [
  {
   "cell_type": "raw",
   "metadata": {},
   "source": [
    "<table align=\"center\">\n",
    "        <tr>\n",
    "          <th> U9 </th>\n",
    "          <th> U11  </th>\n",
    "        </tr>\n",
    "            <tr>\n",
    "              <th> Hennri </th>\n",
    "              <th> Roman </th>\n",
    "            </tr>\n",
    "          <tr>\n",
    "            <th>  Tadeush </th>\n",
    "            <th> Alexander</th>\n",
    "          </tr>\n",
    "                <tr>\n",
    "                  <th> Oliver</th>\n",
    "                  <th> Benjamin </th>\n",
    "                <tr>\n",
    "                    <th> Raphael </th>\n",
    "                    <th> Korel </th>\n",
    "                  </tr>\n",
    "                    <tr>\n",
    "                    <th> Nele </th>\n",
    "                    <th>Moritz </th>\n",
    "                  </tr>\n",
    "                <tr>\n",
    "                  <th>  Emma </th>\n",
    "                  <th> Chris</th>\n",
    "                </tr>\n",
    "                  <tr>\n",
    "                    <th> Mara </th>\n",
    "                    <th> German </th>\n",
    "                  </tr>\n",
    "                    <tr>\n",
    "                  <th>  Timur </th>\n",
    "                  <th> Max </th>\n",
    "                </tr>\n",
    "                  <tr>\n",
    "                  <th>  </th>\n",
    "                  <th> Robin </th>\n",
    "                </tr>\n",
    "                    <tr>\n",
    "                      <th>  </th>\n",
    "                      <th>Kaan  </th>\n",
    "                    </tr>\n",
    "</table>"
   ]
  },
  {
   "cell_type": "code",
   "execution_count": 17,
   "metadata": {
    "collapsed": true
   },
   "outputs": [],
   "source": [
    "Mitglieder= [\"Nele\", \"Mara\", \"Lion\",\"Robin\"]"
   ]
  },
  {
   "cell_type": "code",
   "execution_count": 18,
   "metadata": {},
   "outputs": [
    {
     "name": "stdout",
     "output_type": "stream",
     "text": [
      "['Nele', 'Mara', 'Lion', 'Robin']\n"
     ]
    }
   ],
   "source": [
    "print(Mitglieder)"
   ]
  },
  {
   "cell_type": "code",
   "execution_count": 19,
   "metadata": {},
   "outputs": [
    {
     "name": "stdout",
     "output_type": "stream",
     "text": [
      "Nele\n",
      "Mara\n",
      "Lion\n",
      "Robin\n"
     ]
    }
   ],
   "source": [
    "for Mit in Mitglieder:\n",
    "    print(Mit)"
   ]
  },
  {
   "cell_type": "code",
   "execution_count": 20,
   "metadata": {},
   "outputs": [
    {
     "name": "stdout",
     "output_type": "stream",
     "text": [
      "['Nele', 'Mara', 'Lion', 'Robin']\n"
     ]
    }
   ],
   "source": [
    "print (Mitglieder)"
   ]
  },
  {
   "cell_type": "code",
   "execution_count": 21,
   "metadata": {
    "collapsed": true
   },
   "outputs": [],
   "source": [
    "element_wrapper='<th>{}</th>'"
   ]
  },
  {
   "cell_type": "code",
   "execution_count": 22,
   "metadata": {},
   "outputs": [
    {
     "name": "stdout",
     "output_type": "stream",
     "text": [
      "<th>Nele</th>\n",
      "<th>Mara</th>\n",
      "<th>Lion</th>\n",
      "<th>Robin</th>\n"
     ]
    }
   ],
   "source": [
    "for Mit in Mitglieder:\n",
    "    print(element_wrapper.format(Mit))"
   ]
  },
  {
   "cell_type": "code",
   "execution_count": null,
   "metadata": {
    "collapsed": true
   },
   "outputs": [],
   "source": [
    "table=\"\""
   ]
  },
  {
   "cell_type": "code",
   "execution_count": 26,
   "metadata": {
    "collapsed": true
   },
   "outputs": [],
   "source": [
    "table_wrapper= \"<tr>{}</tr>\""
   ]
  },
  {
   "cell_type": "code",
   "execution_count": 27,
   "metadata": {},
   "outputs": [
    {
     "name": "stdout",
     "output_type": "stream",
     "text": [
      "<tr>Nele</tr>\n",
      "<tr>Mara</tr>\n",
      "<tr>Lion</tr>\n",
      "<tr>Robin</tr>\n"
     ]
    }
   ],
   "source": [
    "for Mit in Mitglieder:\n",
    "    print(table_wrapper.format(Mit))"
   ]
  },
  {
   "cell_type": "code",
   "execution_count": 2,
   "metadata": {
    "collapsed": true
   },
   "outputs": [],
   "source": [
    "Mitglieder = [\n",
    "    {\n",
    "        \"alter\": 9,\n",
    "        \"name\": \"Nele\"\n",
    "    },\n",
    "    {\n",
    "        \"alter\": 11,\n",
    "        \"name\": \"Alex\"\n",
    "    },\n",
    "    {\n",
    "        \"alter\": 8,\n",
    "        \"name\": \"Mara\"\n",
    "    },\n",
    "    {\n",
    "        \"alter\": 10,\n",
    "        \"name\": \"Robin\"\n",
    "    }\n",
    "]"
   ]
  },
  {
   "cell_type": "code",
   "execution_count": 3,
   "metadata": {},
   "outputs": [
    {
     "name": "stdout",
     "output_type": "stream",
     "text": [
      "Nele 9\n",
      "Alex 11\n",
      "Mara 8\n",
      "Robin 10\n"
     ]
    }
   ],
   "source": [
    "for Mitglied in Mitglieder:\n",
    "    print(Mitglied[\"name\"], Mitglied[\"alter\"])"
   ]
  },
  {
   "cell_type": "code",
   "execution_count": 4,
   "metadata": {},
   "outputs": [
    {
     "data": {
      "text/plain": [
       "'<td>Robin</td><td>10</td>'"
      ]
     },
     "execution_count": 4,
     "metadata": {},
     "output_type": "execute_result"
    }
   ],
   "source": [
    "\"<td>{}</td><td>{}</td>\".format(Mitglied[\"name\"], Mitglied[\"alter\"])"
   ]
  },
  {
   "cell_type": "code",
   "execution_count": 11,
   "metadata": {},
   "outputs": [
    {
     "data": {
      "text/plain": [
       "'<td>Robin</td>'"
      ]
     },
     "execution_count": 11,
     "metadata": {},
     "output_type": "execute_result"
    }
   ],
   "source": [
    "\"<td>{}</td>\".format(Mitglied[\"name\"], Mitglied[\"alter\"])"
   ]
  },
  {
   "cell_type": "code",
   "execution_count": 16,
   "metadata": {
    "collapsed": true
   },
   "outputs": [],
   "source": [
    "row_wrapper = \"<tr><td>{}</td><td>{}</td></tr>\".format(Mitglied[\"name\"], Mitglied[\"alter\"])"
   ]
  },
  {
   "cell_type": "code",
   "execution_count": 17,
   "metadata": {},
   "outputs": [
    {
     "data": {
      "text/plain": [
       "'<tr><td>Robin</td><td>10</td></tr>'"
      ]
     },
     "execution_count": 17,
     "metadata": {},
     "output_type": "execute_result"
    }
   ],
   "source": [
    "row_wrapper"
   ]
  },
  {
   "cell_type": "code",
   "execution_count": 39,
   "metadata": {
    "collapsed": true
   },
   "outputs": [],
   "source": [
    "# Formulareingabe aus dem Webinterface\n",
    "\n",
    "eingabe = 11\n",
    "\n",
    "# Auswertung und Verarbeitung der Eingabe auf dem Server\n",
    "\n",
    "table_wrapper = \"<table>{}</table>\"\n",
    "\n",
    "row_wrapper = \"<tr><td>{}</td><td>{}</td></tr>\"\n",
    "\n",
    "table_order = \"\"\n",
    "\n",
    "for Mitglied in Mitglieder:\n",
    "    if Mitglied[\"alter\"] < eingabe:\n",
    "        table_order = table_order + row_wrapper.format(Mitglied[\"name\"], Mitglied[\"alter\"])\n",
    "\n",
    "table = table_wrapper.format(table_order)"
   ]
  },
  {
   "cell_type": "code",
   "execution_count": 40,
   "metadata": {},
   "outputs": [
    {
     "data": {
      "text/html": [
       "<table><tr><td>Nele</td><td>9</td></tr><tr><td>Mara</td><td>8</td></tr><tr><td>Robin</td><td>10</td></tr></table>"
      ],
      "text/plain": [
       "<IPython.core.display.HTML object>"
      ]
     },
     "execution_count": 40,
     "metadata": {},
     "output_type": "execute_result"
    }
   ],
   "source": [
    "from IPython.display import HTML\n",
    "\n",
    "HTML(table)"
   ]
  },
  {
   "cell_type": "markdown",
   "metadata": {
    "collapsed": true
   },
   "source": [
    "## Formulare generieren\n",
    "\n",
    "Auf der Basis von Daten aus einer Liste oder aus einer Datenbank können auch Formulare generiert werden. Z.B. eine Dropdown-Liste mit den Namen der Kinder. (vgl. dazu auch https://www.w3schools.com/html/html_form_elements.asp)."
   ]
  },
  {
   "cell_type": "code",
   "execution_count": 76,
   "metadata": {
    "collapsed": true
   },
   "outputs": [],
   "source": [
    "form_wrapper = \"\"\"\n",
    "<form action='http://localhost'>{}\n",
    "    <p>\n",
    "        <input type='submit'></input>\n",
    "    </p>\n",
    "</form>\n",
    "\"\"\"\n",
    "\n",
    "dropdown_wrapper = \"<select name='person'>{}</select>\"\n",
    "\n",
    "option_wrapper = \"<option value='{}'>{}</option>\"\n",
    "\n",
    "form_order = \"\"\n",
    "\n",
    "for Mitglied in Mitglieder:\n",
    "    form_order = form_order + option_wrapper.format(Mitglied[\"name\"], Mitglied[\"name\"])\n",
    "\n",
    "form = form_wrapper.format(dropdown_wrapper.format(form_order))"
   ]
  },
  {
   "cell_type": "code",
   "execution_count": 77,
   "metadata": {},
   "outputs": [
    {
     "data": {
      "text/html": [
       "\n",
       "<form action='http://localhost'><select name='person'><option value='Nele'>Nele</option><option value='Alex'>Alex</option><option value='Mara'>Mara</option><option value='Robin'>Robin</option></select>\n",
       "    <p>\n",
       "        <input type='submit'></input>\n",
       "    </p>\n",
       "</form>\n"
      ],
      "text/plain": [
       "<IPython.core.display.HTML object>"
      ]
     },
     "execution_count": 77,
     "metadata": {},
     "output_type": "execute_result"
    }
   ],
   "source": [
    "HTML(form)"
   ]
  },
  {
   "cell_type": "code",
   "execution_count": null,
   "metadata": {
    "collapsed": true
   },
   "outputs": [],
   "source": []
  }
 ],
 "metadata": {
  "kernelspec": {
   "display_name": "Python 3",
   "language": "python",
   "name": "python3"
  },
  "language_info": {
   "codemirror_mode": {
    "name": "ipython",
    "version": 3
   },
   "file_extension": ".py",
   "mimetype": "text/x-python",
   "name": "python",
   "nbconvert_exporter": "python",
   "pygments_lexer": "ipython3",
   "version": "3.6.1"
  },
  "toc": {
   "nav_menu": {},
   "number_sections": true,
   "sideBar": true,
   "skip_h1_title": false,
   "toc_cell": false,
   "toc_position": {},
   "toc_section_display": "block",
   "toc_window_display": false
  },
  "varInspector": {
   "cols": {
    "lenName": 16,
    "lenType": 16,
    "lenVar": 40
   },
   "kernels_config": {
    "python": {
     "delete_cmd_postfix": "",
     "delete_cmd_prefix": "del ",
     "library": "var_list.py",
     "varRefreshCmd": "print(var_dic_list())"
    },
    "r": {
     "delete_cmd_postfix": ") ",
     "delete_cmd_prefix": "rm(",
     "library": "var_list.r",
     "varRefreshCmd": "cat(var_dic_list()) "
    }
   },
   "types_to_exclude": [
    "module",
    "function",
    "builtin_function_or_method",
    "instance",
    "_Feature"
   ],
   "window_display": false
  }
 },
 "nbformat": 4,
 "nbformat_minor": 2
}
