{
 "cells": [
  {
   "cell_type": "markdown",
   "metadata": {
    "slideshow": {
     "slide_type": "slide"
    }
   },
   "source": [
    "# Funktionen\n",
    "\n",
    "Funktionen spielen beim Programmieren eine entscheidende Rolle. Zum einen kommen Programmiersprachen schon mit einer Reihe vordefinierter Funktionen daher. Zum anderen lassen sich Funktionen auch selbst definieren. Letzteres hat einige Vorteile:\n",
    "\n",
    "- Funktionen kapseln Programmteile\n",
    "- Funktionen verhindern, dass Code redundant geschrieben wird. Das heißt, es kann mit Funktionen vermieden werden, dass an verschiedenen Stellen des Programms dergleiche Codeabschnitt steht."
   ]
  },
  {
   "cell_type": "markdown",
   "metadata": {
    "slideshow": {
     "slide_type": "subslide"
    }
   },
   "source": [
    "## Funktionsdefinition\n",
    "\n",
    "Eine Funktion wird in Python wie folgt definiert:"
   ]
  },
  {
   "cell_type": "code",
   "execution_count": 7,
   "metadata": {
    "collapsed": true,
    "slideshow": {
     "slide_type": "-"
    }
   },
   "outputs": [],
   "source": [
    "def rechne():\n",
    "    print(\"Was soll ich rechnen?\")"
   ]
  },
  {
   "cell_type": "markdown",
   "metadata": {
    "slideshow": {
     "slide_type": "subslide"
    }
   },
   "source": [
    "## Funktionsaufruf\n",
    "\n",
    "Die Funktion kann nun, nachdem sie definiert wurde, aufgerufen werden:"
   ]
  },
  {
   "cell_type": "code",
   "execution_count": 8,
   "metadata": {
    "slideshow": {
     "slide_type": "-"
    }
   },
   "outputs": [
    {
     "name": "stdout",
     "output_type": "stream",
     "text": [
      "Was soll ich rechnen?\n"
     ]
    }
   ],
   "source": [
    "rechne()"
   ]
  },
  {
   "cell_type": "markdown",
   "metadata": {
    "slideshow": {
     "slide_type": "skip"
    }
   },
   "source": [
    "Diese Ausgabe wäre auch einfach zu haben gewesen. Aber unsere Funktion hat ihr Potenzial noch gar nicht entfalten können. Erweitern wir sie also um die Möglichkeit, **Argumente** entgegen nehmen zu können. Dafür muss in der **Signatur** der Funktion - das ist die erste Zeile - eine **Parameterliste** angegeben werden. Wir definieren die Funktion also noch einmal neu:"
   ]
  },
  {
   "cell_type": "markdown",
   "metadata": {
    "slideshow": {
     "slide_type": "subslide"
    }
   },
   "source": [
    "## Funktionen mit Parametern"
   ]
  },
  {
   "cell_type": "code",
   "execution_count": 9,
   "metadata": {
    "collapsed": true,
    "slideshow": {
     "slide_type": "-"
    }
   },
   "outputs": [],
   "source": [
    "def rechne(zahl1, zahl2):\n",
    "    print(zahl1 + zahl2)"
   ]
  },
  {
   "cell_type": "markdown",
   "metadata": {
    "slideshow": {
     "slide_type": "subslide"
    }
   },
   "source": [
    "Ein Aufruf der Funktion verlangt nun die Übergabe von Argumenten an die Parameter:"
   ]
  },
  {
   "cell_type": "code",
   "execution_count": 14,
   "metadata": {},
   "outputs": [
    {
     "name": "stdout",
     "output_type": "stream",
     "text": [
      "8\n"
     ]
    }
   ],
   "source": [
    "rechne(3,5)"
   ]
  },
  {
   "cell_type": "markdown",
   "metadata": {
    "slideshow": {
     "slide_type": "subslide"
    }
   },
   "source": [
    "**Frage:** Was passiert, wenn Sie keine Argumente übergeben oder eines weglassen?"
   ]
  },
  {
   "cell_type": "markdown",
   "metadata": {
    "slideshow": {
     "slide_type": "skip"
    }
   },
   "source": [
    "Oftmals ist es so, dass das, was die Funktion tun soll, noch nicht direkt ausgegeben werden soll. Stattdessen soll das Ergebnis ihrer Arbeit für später gespeichert werden. Wir definieren die Funktion also nocheinmal neu und lassen sie einen Wert zurückgeben:"
   ]
  },
  {
   "cell_type": "markdown",
   "metadata": {
    "slideshow": {
     "slide_type": "subslide"
    }
   },
   "source": [
    "## Funktionen mit Rückgabe"
   ]
  },
  {
   "cell_type": "code",
   "execution_count": 15,
   "metadata": {
    "collapsed": true
   },
   "outputs": [],
   "source": [
    "def rechne(zahl1, zahl2):\n",
    "    return zahl1 + zahl2"
   ]
  },
  {
   "cell_type": "markdown",
   "metadata": {
    "slideshow": {
     "slide_type": "subslide"
    }
   },
   "source": [
    "Rufen die Funktion nun einmal wie gewohnt auf:"
   ]
  },
  {
   "cell_type": "code",
   "execution_count": 16,
   "metadata": {},
   "outputs": [
    {
     "data": {
      "text/plain": [
       "8"
      ]
     },
     "execution_count": 16,
     "metadata": {},
     "output_type": "execute_result"
    }
   ],
   "source": [
    "rechne(3,5)"
   ]
  },
  {
   "cell_type": "markdown",
   "metadata": {
    "slideshow": {
     "slide_type": "subslide"
    }
   },
   "source": [
    "Sie tut, was wir von ihr verlangt haben, sie gibt den errechneten Wert zurück. Wie aber können wir den Wert längerfristig speichern? Nun, das Konzept des Speicherns von Werten ist bekannt, **Variablen** helfen hier. Tun wir also Folgendes:"
   ]
  },
  {
   "cell_type": "code",
   "execution_count": 17,
   "metadata": {
    "collapsed": true
   },
   "outputs": [],
   "source": [
    "ergebnis = rechne(3,5)"
   ]
  },
  {
   "cell_type": "markdown",
   "metadata": {
    "slideshow": {
     "slide_type": "subslide"
    }
   },
   "source": [
    "Die Variable `ergebnis` speichert nun also das Ergebnis für uns, und wir können später darauf zugreifen:"
   ]
  },
  {
   "cell_type": "code",
   "execution_count": 18,
   "metadata": {},
   "outputs": [
    {
     "name": "stdout",
     "output_type": "stream",
     "text": [
      "8\n"
     ]
    }
   ],
   "source": [
    "print(ergebnis)"
   ]
  },
  {
   "cell_type": "markdown",
   "metadata": {
    "slideshow": {
     "slide_type": "skip"
    }
   },
   "source": [
    "## Abschließende Betrachtungen\n",
    "\n",
    "Funktionen können sehr komplex sein, hier haben wir die Konzepte an einfachen Beispielen kennen gelernt. Je mehr Erfahrung beim Programmieren gesammelt wird und je umfangreicher Programme werden, desto wichtiger werden sie."
   ]
  },
  {
   "cell_type": "markdown",
   "metadata": {
    "slideshow": {
     "slide_type": "slide"
    }
   },
   "source": [
    "## Aufgaben"
   ]
  },
  {
   "cell_type": "markdown",
   "metadata": {},
   "source": [
    "1. Definieren Sie eine Funktion, die einen übergebenen String an die Stelle der drei Punkte in dem Satz \"... mag ich am liebsten\" einfügt und den Satz anschließend ausgibt.\n",
    "2. Definieren Sie eine Funktion, die eine Aufzählung von Namen entgegen nimmt und daraus eine HTML-Liste erzeugt. Die Funktion soll die Liste mit `return` zurückgegeben."
   ]
  },
  {
   "cell_type": "markdown",
   "metadata": {
    "slideshow": {
     "slide_type": "skip"
    }
   },
   "source": [
    "### Aufgabe 1"
   ]
  },
  {
   "cell_type": "code",
   "execution_count": 19,
   "metadata": {
    "collapsed": true,
    "slideshow": {
     "slide_type": "skip"
    }
   },
   "outputs": [],
   "source": [
    "# Ihre Lösung"
   ]
  },
  {
   "cell_type": "markdown",
   "metadata": {
    "slideshow": {
     "slide_type": "skip"
    }
   },
   "source": [
    "### Aufgabe 2"
   ]
  },
  {
   "cell_type": "code",
   "execution_count": 20,
   "metadata": {
    "collapsed": true,
    "slideshow": {
     "slide_type": "skip"
    }
   },
   "outputs": [],
   "source": [
    "# Ihre Lösung"
   ]
  },
  {
   "cell_type": "markdown",
   "metadata": {
    "slideshow": {
     "slide_type": "skip"
    }
   },
   "source": [
    "## Referenzen\n",
    "\n",
    "Sie finden im [Python3-Tutorial](https://www.python-kurs.eu/python3_funktionen.php) weitere Details zu Funktionen."
   ]
  }
 ],
 "metadata": {
  "celltoolbar": "Slideshow",
  "kernelspec": {
   "display_name": "Python 3",
   "language": "python",
   "name": "python3"
  },
  "language_info": {
   "codemirror_mode": {
    "name": "ipython",
    "version": 3
   },
   "file_extension": ".py",
   "mimetype": "text/x-python",
   "name": "python",
   "nbconvert_exporter": "python",
   "pygments_lexer": "ipython3",
   "version": "3.6.1"
  },
  "toc": {
   "nav_menu": {},
   "number_sections": true,
   "sideBar": true,
   "skip_h1_title": false,
   "toc_cell": false,
   "toc_position": {},
   "toc_section_display": "block",
   "toc_window_display": false
  },
  "varInspector": {
   "cols": {
    "lenName": 16,
    "lenType": 16,
    "lenVar": 40
   },
   "kernels_config": {
    "python": {
     "delete_cmd_postfix": "",
     "delete_cmd_prefix": "del ",
     "library": "var_list.py",
     "varRefreshCmd": "print(var_dic_list())"
    },
    "r": {
     "delete_cmd_postfix": ") ",
     "delete_cmd_prefix": "rm(",
     "library": "var_list.r",
     "varRefreshCmd": "cat(var_dic_list()) "
    }
   },
   "types_to_exclude": [
    "module",
    "function",
    "builtin_function_or_method",
    "instance",
    "_Feature"
   ],
   "window_display": false
  }
 },
 "nbformat": 4,
 "nbformat_minor": 2
}
