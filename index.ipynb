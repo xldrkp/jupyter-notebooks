{
 "cells": [
  {
   "cell_type": "markdown",
   "metadata": {},
   "source": [
    "# Einführung in die Informationstechnik II\n",
    "\n",
    "Die folgenden Notebooks begleiten die Veranstaltung [Einführung in die Informationstechnik II](https://fizban05.rz.tu-harburg.de/itbh-inf-wise201718/veranstaltungsskript-inf-wise201718/). Das Repository für diese Notebooks liegt primär in [der GitLab-Instanz der TUHH](https://collaborating.tuhh.de/itbh-inf-wise201718/jupyter-notebooks) und gespiegelt [auf GitHub](https://github.com/xldrkp/jupyter-notebooks)."
   ]
  },
  {
   "cell_type": "markdown",
   "metadata": {},
   "source": [
    "## Inhalt\n",
    "\n",
    "### 02. Sitzung, 27.10.2017\n",
    "\n",
    "- [Überblick: Die pythonische Küche](die_pythonische_kueche.ipynb)"
   ]
  },
  {
   "cell_type": "markdown",
   "metadata": {},
   "source": [
    "### 03. Sitzung, 03.11.2017\n",
    "\n",
    "**Notebooks**\n",
    "\n",
    "- [Beispiel für Markdown](03-2017-11-03/beispiel-fuer-markdown.ipynb)\n",
    "- [Erste Pythonversuche](03-2017-11-03/Erste Pythonversuche.ipynb)\n",
    "- [Beispielaufgabe](03-2017-11-03/Aufgabe.ipynb)\n",
    "\n",
    "**Links**\n",
    "\n",
    "- [Sitzung im Skript](https://fizban05.rz.tu-harburg.de/itbh-inf-wise201718/veranstaltungsskript-inf-wise201718/sitzungen/03-Fr-2017-11-03.html)"
   ]
  },
  {
   "cell_type": "markdown",
   "metadata": {},
   "source": [
    "### 04. Sitzung, 10.11.2017\n",
    "\n",
    "**Notebooks**\n",
    "\n",
    "- [Ungeordnete Liste mit Python generieren](04-2017-11-10/00_Ungeordnete _Liste_mit_Python_generieren.ipynb)\n",
    "- [HTML-Liste](04-2017-11-10/01_html_liste.ipynb)\n",
    "- [Navigation mit Python](04-2017-11-10/02_Navigation mit Python.ipynb)\n",
    "- [Aufgabe: Bildergalerie generieren](04-2017-11-10/03_Aufgabe Bildergalerie generieren.ipynb)\n",
    "\n",
    "**Links**\n",
    "\n",
    "- [Sitzung im Skript](https://fizban05.rz.tu-harburg.de/itbh-inf-wise201718/veranstaltungsskript-inf-wise201718/sitzungen/04-Fr-2017-11-10.html)"
   ]
  },
  {
   "cell_type": "markdown",
   "metadata": {},
   "source": [
    "### 05. Sitzung, 17.11.2017\n",
    "\n",
    "**Notebook**\n",
    "\n",
    "- [Komplexe Datenstrukturen](05-2017-11-17/komplexe-datenstrukturen.ipynb)\n",
    "\n",
    "**Links**\n",
    "\n",
    "- [Sitzung im Skript](https://fizban05.rz.tu-harburg.de/itbh-inf-wise201718/veranstaltungsskript-inf-wise201718/sitzungen/05-Fr-2017-11-17.html)"
   ]
  },
  {
   "cell_type": "markdown",
   "metadata": {},
   "source": [
    "### 06. Sitzung, 24.11.2017\n",
    "\n",
    "**Notebook**\n",
    "\n",
    "- [Tabellen und Formulare generieren](06-2017-11-24/Tabellen-und-Formulare-generieren.ipynb)\n",
    "\n",
    "**Links**\n",
    "\n",
    "- [Sitzung im Skript](https://fizban05.rz.tu-harburg.de/itbh-inf-wise201718/veranstaltungsskript-inf-wise201718/sitzungen/06-Fr-2017-11-24.html)"
   ]
  },
  {
   "cell_type": "markdown",
   "metadata": {},
   "source": [
    "### 07. Sitzung, 01.12.2017\n",
    "\n",
    "**Notebook**\n",
    "\n",
    "- [Bilder einbinden](07-2017-12-01/Bilder-einbinden.ipynb)\n",
    "\n",
    "**Links**\n",
    "\n",
    "- [Sitzung im Skript](https://fizban05.rz.tu-harburg.de/itbh-inf-wise201718/veranstaltungsskript-inf-wise201718/sitzungen/07-Fr-2017-12-01.html)"
   ]
  },
  {
   "cell_type": "markdown",
   "metadata": {},
   "source": [
    "### 08. Sitzung, 08.12.2017\n",
    "\n",
    "**Notebook**\n",
    "\n",
    "- [Funktionen](07-2017-12-01/funktionen.ipynb)"
   ]
  },
  {
   "cell_type": "code",
   "execution_count": null,
   "metadata": {},
   "outputs": [],
   "source": []
  }
 ],
 "metadata": {
  "kernelspec": {
   "display_name": "Python 3",
   "language": "python",
   "name": "python3"
  },
  "language_info": {
   "codemirror_mode": {
    "name": "ipython",
    "version": 3
   },
   "file_extension": ".py",
   "mimetype": "text/x-python",
   "name": "python",
   "nbconvert_exporter": "python",
   "pygments_lexer": "ipython3",
   "version": "3.6.3"
  },
  "toc": {
   "nav_menu": {},
   "number_sections": true,
   "sideBar": true,
   "skip_h1_title": false,
   "toc_cell": false,
   "toc_position": {},
   "toc_section_display": "block",
   "toc_window_display": false
  },
  "varInspector": {
   "cols": {
    "lenName": 16,
    "lenType": 16,
    "lenVar": 40
   },
   "kernels_config": {
    "python": {
     "delete_cmd_postfix": "",
     "delete_cmd_prefix": "del ",
     "library": "var_list.py",
     "varRefreshCmd": "print(var_dic_list())"
    },
    "r": {
     "delete_cmd_postfix": ") ",
     "delete_cmd_prefix": "rm(",
     "library": "var_list.r",
     "varRefreshCmd": "cat(var_dic_list()) "
    }
   },
   "types_to_exclude": [
    "module",
    "function",
    "builtin_function_or_method",
    "instance",
    "_Feature"
   ],
   "window_display": false
  }
 },
 "nbformat": 4,
 "nbformat_minor": 2
}
