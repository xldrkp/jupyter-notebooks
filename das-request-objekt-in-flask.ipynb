{
 "cells": [
  {
   "cell_type": "markdown",
   "metadata": {},
   "source": [
    "# Das Request-Objekt in Flask\n",
    "\n",
    "Das folgende Skript imitiert ein Request-Objekt in Flask nach dem Versand eines HTML-Formulars. Dabei ist das Ziel, die Daten aus dem Formular in irgendeiner Form weiter zu verarbeiten, bspw. als Mail zu versenden, in einer CSV-Datei zu speichern o.ä."
   ]
  },
  {
   "cell_type": "markdown",
   "metadata": {},
   "source": [
    "Die Eigenschaft `request.form` ist nach dem Versand eines Formular ein `ImmutableMultiDict`. Das ist ein besonderer Datentyp in Flask, der auf einer Klasse aus [werkzeug](http://werkzeug.pocoo.org/docs/0.12/) basiert.\n",
    "\n",
    "Daher weisen wir zunächst einer Variablen ein so genanntes [MultiDict](http://werkzeug.pocoo.org/docs/0.12/datastructures/#werkzeug.datastructures.MultiDict) zu, das im Kontext von Flask ein komplexer Datentyp ist. Er hat die Form einer [Liste](https://docs.python.org/2/tutorial/introduction.html#lists) von [Tupeln](https://docs.python.org/2/tutorial/datastructures.html#tuples-and-sequences)."
   ]
  },
  {
   "cell_type": "code",
   "execution_count": 19,
   "metadata": {
    "collapsed": true
   },
   "outputs": [],
   "source": [
    "# Import des komplexen Datentyps MultiDict, der für das Request-Objekt verwendet wird.\n",
    "from werkzeug.datastructures import MultiDict\n",
    "\n",
    "class Request():\n",
    "    \"\"\"Klasse, die das Request-Objekt imitiert.\"\"\"\n",
    "    form = None\n",
    "    \n",
    "# Wird von Flask intern erzeugt und verwaltet. Hier nur instanziiert,\n",
    "# um die Schreibweise in einem Flask-View zu imitieren.\n",
    "request = Request()"
   ]
  },
  {
   "cell_type": "markdown",
   "metadata": {},
   "source": [
    "## Das HTML-Formular\n",
    "\n",
    "Das Markup für ein einfaches Formular könnte nun wie folgt aussehen:"
   ]
  },
  {
   "cell_type": "code",
   "execution_count": 29,
   "metadata": {
    "collapsed": true
   },
   "outputs": [],
   "source": [
    "f = \"\"\"\n",
    "<form action=\"/\" method=\"post\">\n",
    "    <p>\n",
    "        <label for=\"tier\">Tierart:</label>\n",
    "        <input type=\"text\" name=\"tier\" id=\"tier\" value=\"Hund\">\n",
    "    </p>\n",
    "    <p>\n",
    "        <label for=\"beine\">Anzahl der Beine:</label>\n",
    "        <input type=\"text\" name=\"beine\" id=\"beine\" value=\"4\">\n",
    "    </p>\n",
    "    <p>\n",
    "        <label for=\"alter\">Alter des Tiers:</label>\n",
    "        <input type=\"text\" name=\"alter\" id=\"alter\" value=\"7\">\n",
    "    </p>\n",
    "</form>\n",
    "\"\"\""
   ]
  },
  {
   "cell_type": "markdown",
   "metadata": {},
   "source": [
    "Damit es hier gerendert gezeigt werden kann, brauchen wir einen Helfer:"
   ]
  },
  {
   "cell_type": "code",
   "execution_count": 30,
   "metadata": {},
   "outputs": [
    {
     "data": {
      "text/html": [
       "\n",
       "<form action=\"/\" method=\"post\">\n",
       "    <p>\n",
       "        <label for=\"tier\">Tierart:</label>\n",
       "        <input type=\"text\" name=\"tier\" id=\"tier\" value=\"Hund\">\n",
       "    </p>\n",
       "    <p>\n",
       "        <label for=\"beine\">Anzahl der Beine:</label>\n",
       "        <input type=\"text\" name=\"beine\" id=\"beine\" value=\"4\">\n",
       "    </p>\n",
       "    <p>\n",
       "        <label for=\"alter\">Alter des Tiers:</label>\n",
       "        <input type=\"text\" name=\"alter\" id=\"alter\" value=\"7\">\n",
       "    </p>\n",
       "</form>\n"
      ],
      "text/plain": [
       "<IPython.core.display.HTML object>"
      ]
     },
     "execution_count": 30,
     "metadata": {},
     "output_type": "execute_result"
    }
   ],
   "source": [
    "from IPython.display import HTML\n",
    "\n",
    "h = HTML(f); h"
   ]
  },
  {
   "cell_type": "markdown",
   "metadata": {},
   "source": [
    "Voilà! Der Absendebutton fehlt, weil er in diesem Kontext nicht funktionieren würde."
   ]
  },
  {
   "cell_type": "markdown",
   "metadata": {},
   "source": [
    "## Imitation der Formulardaten in Flask\n",
    "\n",
    "Senden wir dieses Formular ausgefüllt an den Server, hätten wir ein Request-Objekt in Flask zur Verfügung, das folgende Gestalt hat:"
   ]
  },
  {
   "cell_type": "code",
   "execution_count": 22,
   "metadata": {
    "collapsed": true
   },
   "outputs": [],
   "source": [
    "# Imitation eines Request-Objekts, wie es in Flask nach dem Formularversand vorhanden ist.\n",
    "request.form = MultiDict([('tier', 'Hund'), ('beine', 4), ('alter', 7)])"
   ]
  },
  {
   "cell_type": "markdown",
   "metadata": {},
   "source": [
    "## Zugreifen auf die Request-Daten\n",
    "\n",
    "Nun greifen wir zum Warmwerden auf die Werte dieser Variablen zu."
   ]
  },
  {
   "cell_type": "code",
   "execution_count": 23,
   "metadata": {},
   "outputs": [
    {
     "name": "stdout",
     "output_type": "stream",
     "text": [
      "Hund\n"
     ]
    }
   ],
   "source": [
    "print(request.form['tier'])"
   ]
  },
  {
   "cell_type": "markdown",
   "metadata": {},
   "source": [
    "oder"
   ]
  },
  {
   "cell_type": "code",
   "execution_count": 24,
   "metadata": {},
   "outputs": [
    {
     "name": "stdout",
     "output_type": "stream",
     "text": [
      "Das Tier ist 7 Jahre alt.\n"
     ]
    }
   ],
   "source": [
    "print(\"Das Tier ist {} Jahre alt.\".format(request.form['alter']))"
   ]
  }
 ],
 "metadata": {
  "kernelspec": {
   "display_name": "Python 3",
   "language": "python",
   "name": "python3"
  },
  "language_info": {
   "codemirror_mode": {
    "name": "ipython",
    "version": 3
   },
   "file_extension": ".py",
   "mimetype": "text/x-python",
   "name": "python",
   "nbconvert_exporter": "python",
   "pygments_lexer": "ipython3",
   "version": "3.4.3"
  }
 },
 "nbformat": 4,
 "nbformat_minor": 2
}
