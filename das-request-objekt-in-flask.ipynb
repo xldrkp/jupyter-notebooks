{
 "cells": [
  {
   "cell_type": "markdown",
   "metadata": {},
   "source": [
    "# Das Request-Objekt in Flask\n",
    "\n",
    "Das folgende Skript imitiert ein Request-Objekt in Flask nach dem Versand eines HTML-Formulars. Dabei ist das Ziel, die Daten aus dem Formular in irgendeiner Form weiter zu verarbeiten, bspw. als Mail zu versenden, in einer CSV-Datei zu speichern o.ä."
   ]
  },
  {
   "cell_type": "markdown",
   "metadata": {},
   "source": [
    "Die Eigenschaft `request.form` ist nach dem Versand eines Formular ein `ImmutableMultiDict`. Das ist ein besonderer Datentyp in Flask, der auf einer Klasse aus [werkzeug](http://werkzeug.pocoo.org/docs/0.12/) basiert.\n",
    "\n",
    "Daher weisen wir zunächst einer Variablen ein so genanntes [MultiDict](http://werkzeug.pocoo.org/docs/0.12/datastructures/#werkzeug.datastructures.MultiDict) zu, das im Kontext von Flask ein komplexer Datentyp ist. Er hat die Form einer [Liste](https://docs.python.org/2/tutorial/introduction.html#lists) von [Tupeln](https://docs.python.org/2/tutorial/datastructures.html#tuples-and-sequences)."
   ]
  },
  {
   "cell_type": "code",
   "execution_count": 25,
   "metadata": {},
   "outputs": [],
   "source": [
    "# Import des komplexen Datentyps, der für das Request-Objekt verwendet wird.\n",
    "from werkzeug.datastructures import MultiDict\n",
    "\n",
    "class Request():\n",
    "    \"\"\"Klasse, die das Request-Objekt imitiert.\"\"\"\n",
    "    form = None\n",
    "    \n",
    "# Wird von Flask intern erzeugt und verwaltet. Hier nur instanziiert,\n",
    "# um die Schreibweise in einem Flask-View zu imitieren.\n",
    "request = Request()\n",
    "\n",
    "# Imitation eines Request-Objekts, wie es in Flask nach dem Formularversand vorhanden ist.\n",
    "request.form = MultiDict([('tier', 'Hund'), ('beine', 4), ('alter', 7)])"
   ]
  },
  {
   "cell_type": "markdown",
   "metadata": {},
   "source": [
    "Nun greifen wir zum Warmwerden auf die Werte dieser Variablen zu."
   ]
  },
  {
   "cell_type": "code",
   "execution_count": 20,
   "metadata": {},
   "outputs": [
    {
     "name": "stdout",
     "output_type": "stream",
     "text": [
      "Hund\n"
     ]
    }
   ],
   "source": [
    "print(request.form['tier'])"
   ]
  },
  {
   "cell_type": "markdown",
   "metadata": {},
   "source": [
    "oder"
   ]
  },
  {
   "cell_type": "code",
   "execution_count": 21,
   "metadata": {},
   "outputs": [
    {
     "name": "stdout",
     "output_type": "stream",
     "text": [
      "Das Tier ist 7 Jahre alt.\n"
     ]
    }
   ],
   "source": [
    "print(\"Das Tier ist {} Jahre alt.\".format(request.form['alter']))"
   ]
  },
  {
   "cell_type": "code",
   "execution_count": null,
   "metadata": {
    "collapsed": true
   },
   "outputs": [],
   "source": []
  }
 ],
 "metadata": {
  "kernelspec": {
   "display_name": "Python 3",
   "language": "python",
   "name": "python3"
  },
  "language_info": {
   "codemirror_mode": {
    "name": "ipython",
    "version": 3
   },
   "file_extension": ".py",
   "mimetype": "text/x-python",
   "name": "python",
   "nbconvert_exporter": "python",
   "pygments_lexer": "ipython3",
   "version": "3.4.3"
  }
 },
 "nbformat": 4,
 "nbformat_minor": 2
}
