{
 "cells": [
  {
   "cell_type": "markdown",
   "metadata": {},
   "source": [
    "# Dynamisches Generieren einer Navigation mit Python"
   ]
  },
  {
   "cell_type": "code",
   "execution_count": 31,
   "metadata": {},
   "outputs": [
    {
     "name": "stdout",
     "output_type": "stream",
     "text": [
      "<nav><ul style=\"list-style: none;\"><li><a href=\"#\">Home</a></li><li><a href=\"#\">Kontakt</a></li><li><a href=\"#\">Impressum</a></li></ul></nav>\n"
     ]
    }
   ],
   "source": [
    "navi = [\"Home\", \"Kontakt\", \"Impressum\"]\n",
    "\n",
    "nav_wrapper = '<nav><ul style=\"list-style: none;\">{}</ul></nav>'\n",
    "nav_item_wrapper = '<li><a href=\"#\">{}</a></li>'\n",
    "\n",
    "nav_items = \"\"\n",
    "\n",
    "for n in navi:\n",
    "    nav_items = nav_items + nav_item_wrapper.format(n)\n",
    "    \n",
    "html_navigation = nav_wrapper.format(nav_items)\n",
    "\n",
    "print(html_navigation)"
   ]
  },
  {
   "cell_type": "markdown",
   "metadata": {},
   "source": [
    "## Ein Trick für's Notebook"
   ]
  },
  {
   "cell_type": "markdown",
   "metadata": {},
   "source": [
    "Um das generierte HTML aus \"als\" HTML ausgeben zu können, müssen wir uns hier im Notebook eines Trick bedienen."
   ]
  },
  {
   "cell_type": "code",
   "execution_count": 30,
   "metadata": {},
   "outputs": [
    {
     "data": {
      "text/html": [
       "<nav>\n",
       "<ul style=\"list-style: none;\">\n",
       "<li><a href=\"#\">Home</a></li>\n",
       "<li><a href=\"#\">Kontakt</a></li>\n",
       "<li><a href=\"#\">Impressum</a></li>\n",
       "</ul></nav>"
      ],
      "text/plain": [
       "<IPython.core.display.HTML object>"
      ]
     },
     "execution_count": 30,
     "metadata": {},
     "output_type": "execute_result"
    }
   ],
   "source": [
    "from IPython.display import HTML\n",
    "\n",
    "HTML(html_navigation)"
   ]
  },
  {
   "cell_type": "markdown",
   "metadata": {},
   "source": [
    "## Keine Liste, sondern Dicationary"
   ]
  },
  {
   "cell_type": "markdown",
   "metadata": {},
   "source": [
    "Statt einer Liste verwenden wir nun ein *dictionary*:"
   ]
  },
  {
   "cell_type": "code",
   "execution_count": 29,
   "metadata": {},
   "outputs": [
    {
     "name": "stdout",
     "output_type": "stream",
     "text": [
      "http://spiegel.de\n"
     ]
    }
   ],
   "source": [
    "navi = {\n",
    "    \"home\" : {\n",
    "        \"name\": \"Home\",\n",
    "        \"url\": \"http://heise.de\",\n",
    "        \"external\": True\n",
    "    },\n",
    "    \"kontakt\": {\n",
    "        \"name\": \"Kontakt\",\n",
    "        \"url\": \"http://spiegel.de\",\n",
    "        \"external\": False\n",
    "    }\n",
    "}\n",
    "\n",
    "print(navi[\"kontakt\"][\"url\"])"
   ]
  },
  {
   "cell_type": "code",
   "execution_count": 30,
   "metadata": {},
   "outputs": [
    {
     "name": "stdout",
     "output_type": "stream",
     "text": [
      "<nav><ul style=\"list-style: none;\"><li><a href=\"http://spiegel.de\">Kontakt</a></li><li><a href=\"http://heise.de\">Home</a></li></ul></nav>\n"
     ]
    }
   ],
   "source": [
    "nav_wrapper = '<nav><ul style=\"list-style: none;\">{}</ul></nav>'\n",
    "nav_item_wrapper = '<li><a href=\"{}\">{}</a></li>'\n",
    "\n",
    "nav_items = \"\"\n",
    "\n",
    "for key, value in navi.items():\n",
    "    nav_items = nav_items + nav_item_wrapper.format(value[\"url\"],value['name'])\n",
    "html_navigation = nav_wrapper.format(nav_items)\n",
    "\n",
    "print(html_navigation)"
   ]
  },
  {
   "cell_type": "code",
   "execution_count": 28,
   "metadata": {},
   "outputs": [
    {
     "data": {
      "text/html": [
       "<nav><ul style=\"list-style: none;\"><li><a href=\"#\">Kontakt</a></li><li><a href=\"#\">Home</a></li></ul></nav>"
      ],
      "text/plain": [
       "<IPython.core.display.HTML object>"
      ]
     },
     "execution_count": 28,
     "metadata": {},
     "output_type": "execute_result"
    }
   ],
   "source": [
    "from IPython.display import HTML\n",
    "\n",
    "HTML(html_navigation)"
   ]
  }
 ],
 "metadata": {
  "kernelspec": {
   "display_name": "Python 3",
   "language": "python",
   "name": "python3"
  },
  "language_info": {
   "codemirror_mode": {
    "name": "ipython",
    "version": 3
   },
   "file_extension": ".py",
   "mimetype": "text/x-python",
   "name": "python",
   "nbconvert_exporter": "python",
   "pygments_lexer": "ipython3",
   "version": "3.5.4"
  }
 },
 "nbformat": 4,
 "nbformat_minor": 2
}
