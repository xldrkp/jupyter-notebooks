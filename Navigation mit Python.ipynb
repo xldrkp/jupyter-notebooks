{
 "cells": [
  {
   "cell_type": "markdown",
   "metadata": {},
   "source": [
    "# Generieren einer Navigation mit Python"
   ]
  },
  {
   "cell_type": "markdown",
   "metadata": {},
   "source": [
    "Die Navigation einer Website ist nichts anderes als eine Liste von Punkten, die Nutzer_innen ansteuern können. Das Generieren einer Navigation mit Python kann zeigen, wozu es gut sein kann, bestimmte Teile einer Website mithilfe einer Skriptsprache zu erzeugen und nicht statisch niederzuschreiben."
   ]
  },
  {
   "cell_type": "markdown",
   "metadata": {},
   "source": [
    "## Variante 1: Navigation aus einer Liste"
   ]
  },
  {
   "cell_type": "markdown",
   "metadata": {},
   "source": [
    "Zunächst definieren wir eine Variable, die die Liste der Navigationspunkte enthält:"
   ]
  },
  {
   "cell_type": "code",
   "execution_count": null,
   "metadata": {},
   "outputs": [],
   "source": [
    "nav = [\"Home\", \"Kontakt\", \"Impressum\"]"
   ]
  },
  {
   "cell_type": "markdown",
   "metadata": {},
   "source": [
    "Nun definieren wir eine Variable mit einem String, der die HTML-Listenelemente umspannen wird. Die geschweiften Klammern kennzeichnen die Stelle, die später gefüllt wird."
   ]
  },
  {
   "cell_type": "code",
   "execution_count": null,
   "metadata": {},
   "outputs": [],
   "source": [
    "nav_wrapper = '<nav><ul>{}</ul></nav>'"
   ]
  },
  {
   "cell_type": "markdown",
   "metadata": {},
   "source": [
    "Dasselbe tun wir noch einmal für die Anchortags in den Listenelementen:"
   ]
  },
  {
   "cell_type": "code",
   "execution_count": null,
   "metadata": {},
   "outputs": [],
   "source": [
    "nav_item_wrapper = '<li><a href=\"#\">{}</a></li>'"
   ]
  },
  {
   "cell_type": "markdown",
   "metadata": {},
   "source": [
    "Nun durchlaufen wir mit einer Schleife die Liste und generieren die Navigation. Dazu definieren wir zunächst eine Variable, die einen leeren String speichert:"
   ]
  },
  {
   "cell_type": "code",
   "execution_count": null,
   "metadata": {},
   "outputs": [],
   "source": [
    "nav_items = \"\""
   ]
  },
  {
   "cell_type": "markdown",
   "metadata": {},
   "source": [
    "Die Schleife geht nacheinander jedes Element der Liste durch. Dabei füllt sie mit der Funktion `format()` den aktuellen Wert von `item` in `nav_item_wrapper` ein.\n",
    "\n",
    "Anschließend wird `nav_item_wrapper` an den aktuellen Inhalt von `nav_items` angehängt. Mit jedem Schleifendurchlauf wird `nav_items` länger."
   ]
  },
  {
   "cell_type": "code",
   "execution_count": null,
   "metadata": {},
   "outputs": [],
   "source": [
    "for item in nav:\n",
    "    nav_items = nav_items + nav_item_wrapper.format(item)   "
   ]
  },
  {
   "cell_type": "markdown",
   "metadata": {},
   "source": [
    "Nach dem Ende der Schleife geben wir zum besseren Verständnis aus, was bisher generiert wurde:"
   ]
  },
  {
   "cell_type": "code",
   "execution_count": null,
   "metadata": {},
   "outputs": [],
   "source": [
    "print(nav_items)"
   ]
  },
  {
   "cell_type": "markdown",
   "metadata": {},
   "source": [
    "Damit korrektes HTML entsteht, muss dieses Konstrukt nun noch ummantelt werden von den erforderlichen HTML-Tags:"
   ]
  },
  {
   "cell_type": "code",
   "execution_count": null,
   "metadata": {},
   "outputs": [],
   "source": [
    "html_navigation = nav_wrapper.format(nav_items)"
   ]
  },
  {
   "cell_type": "markdown",
   "metadata": {},
   "source": [
    "Das Ergebnis kann sich sehen lassen, auch wenn es nicht so schön formatiert ist, wie handgeschriebenes HTML. Aber das ist dem Browser gleichgültig:"
   ]
  },
  {
   "cell_type": "code",
   "execution_count": null,
   "metadata": {},
   "outputs": [],
   "source": [
    "print(html_navigation)"
   ]
  },
  {
   "cell_type": "markdown",
   "metadata": {},
   "source": [
    "## Ein Trick für's Notebook"
   ]
  },
  {
   "cell_type": "markdown",
   "metadata": {},
   "source": [
    "Um das generierte HTML aus \"als\" HTML ausgeben zu können, müssen wir uns hier im Notebook eines Tricks bedienen."
   ]
  },
  {
   "cell_type": "code",
   "execution_count": null,
   "metadata": {},
   "outputs": [],
   "source": [
    "from IPython.display import HTML\n",
    "\n",
    "HTML(html_navigation)"
   ]
  },
  {
   "cell_type": "markdown",
   "metadata": {},
   "source": [
    "## Variante 2: Navigation aus einem Dictionary"
   ]
  },
  {
   "cell_type": "markdown",
   "metadata": {},
   "source": [
    "Statt einer Liste verwenden wir nun ein *dictionary*:"
   ]
  },
  {
   "cell_type": "code",
   "execution_count": 132,
   "metadata": {},
   "outputs": [],
   "source": [
    "nav = {\n",
    "    \"home\" : {\n",
    "        \"name\": \"Home\",\n",
    "        \"url\": \"http://heise.de\",\n",
    "        \"external\": True\n",
    "    },\n",
    "    \"kontakt\": {\n",
    "        \"name\": \"Kontakt\",\n",
    "        \"url\": \"http://spiegel.de\",\n",
    "        \"external\": False\n",
    "    }\n",
    "}"
   ]
  },
  {
   "cell_type": "markdown",
   "metadata": {},
   "source": [
    "Um zu verstehen, wie nun auf das Dictionary zugegriffen werden kann, geben wir testweise einen Werte aus:"
   ]
  },
  {
   "cell_type": "code",
   "execution_count": 134,
   "metadata": {},
   "outputs": [
    {
     "name": "stdout",
     "output_type": "stream",
     "text": [
      "http://spiegel.de\n"
     ]
    }
   ],
   "source": [
    "print(nav[\"kontakt\"][\"url\"])"
   ]
  },
  {
   "cell_type": "markdown",
   "metadata": {},
   "source": [
    "Das weitere Verfahren ist nun analog zu Variante 1:"
   ]
  },
  {
   "cell_type": "code",
   "execution_count": null,
   "metadata": {},
   "outputs": [],
   "source": [
    "nav_wrapper = '<nav><ul>{}</ul></nav>'\n",
    "nav_item_wrapper = '<li><a href=\"{}\">{}</a></li>'\n",
    "\n",
    "nav_items = \"\""
   ]
  },
  {
   "cell_type": "markdown",
   "metadata": {},
   "source": [
    "Allein die Schleife ist anders. Ein Dictionary hat eine Folge von Schlüsseln und zugehörigen Werten, englisch: *key* und *value*. Wir sind bei jedem Schleifendurchlauf nur an den Werte interessiert, müssen aber dennoch die Schlüssel mit erfassen."
   ]
  },
  {
   "cell_type": "code",
   "execution_count": null,
   "metadata": {},
   "outputs": [],
   "source": [
    "for key, value in nav.items():\n",
    "    nav_items = nav_items + nav_item_wrapper.format(value[\"url\"],value['name'])\n",
    "\n",
    "html_navigation = nav_wrapper.format(nav_items)\n",
    "\n",
    "print(html_navigation)"
   ]
  },
  {
   "cell_type": "code",
   "execution_count": null,
   "metadata": {},
   "outputs": [],
   "source": [
    "from IPython.display import HTML\n",
    "\n",
    "HTML(html_navigation)"
   ]
  }
 ],
 "metadata": {
  "kernelspec": {
   "display_name": "Python 3",
   "language": "python",
   "name": "python3"
  },
  "language_info": {
   "codemirror_mode": {
    "name": "ipython",
    "version": 3
   },
   "file_extension": ".py",
   "mimetype": "text/x-python",
   "name": "python",
   "nbconvert_exporter": "python",
   "pygments_lexer": "ipython3",
   "version": "3.5.4"
  }
 },
 "nbformat": 4,
 "nbformat_minor": 2
}
