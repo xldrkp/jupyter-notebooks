{
 "cells": [
  {
   "cell_type": "markdown",
   "metadata": {},
   "source": [
    "# Listen in Python: Ungeordnete HTML-Liste generieren\n",
    "\n",
    "In dieser Einheit werden wir uns mit Listen in Python auseinandersetzen. Dazu definieren wir eine Liste mit diversen Tieren."
   ]
  },
  {
   "cell_type": "code",
   "execution_count": 2,
   "metadata": {
    "collapsed": true
   },
   "outputs": [],
   "source": [
    "tiere = [\"Hund\", \"Katze\", \"Giraffe\", \"Maus\", \"Frosch\"]"
   ]
  },
  {
   "cell_type": "markdown",
   "metadata": {},
   "source": [
    "Wir können den Inhalt der Variablen `tiere` einfach wieder ausgeben."
   ]
  },
  {
   "cell_type": "code",
   "execution_count": 3,
   "metadata": {},
   "outputs": [
    {
     "name": "stdout",
     "output_type": "stream",
     "text": [
      "['Hund', 'Katze', 'Giraffe', 'Maus', 'Frosch']\n"
     ]
    }
   ],
   "source": [
    "print(tiere)"
   ]
  },
  {
   "cell_type": "markdown",
   "metadata": {},
   "source": [
    "Um nun die Tiere einzeln wieder ausgeben zu können, iterieren wir über die Liste mit einer Schleife."
   ]
  },
  {
   "cell_type": "code",
   "execution_count": 4,
   "metadata": {},
   "outputs": [
    {
     "name": "stdout",
     "output_type": "stream",
     "text": [
      "Hund\n",
      "Katze\n",
      "Giraffe\n",
      "Maus\n",
      "Frosch\n"
     ]
    }
   ],
   "source": [
    "for tier in tiere:\n",
    "    print(tier)"
   ]
  },
  {
   "cell_type": "markdown",
   "metadata": {},
   "source": [
    "In HTML ist eine Liste z.B. ein `<ul><li></li></ul>`-Konstrukt. Dieses können wir mit Python herstellen."
   ]
  },
  {
   "cell_type": "code",
   "execution_count": 5,
   "metadata": {
    "collapsed": true
   },
   "outputs": [],
   "source": [
    "html_liste = '<ul>'\n",
    "\n",
    "for tier in tiere:\n",
    "    html_liste = html_liste + '<li>{}</li>'.format(tier)\n",
    "\n",
    "html_liste += '</ul>'"
   ]
  },
  {
   "cell_type": "markdown",
   "metadata": {},
   "source": [
    "**Erklärung:** In Z1 speichern wir den ersten Teil der HTML-Liste in der Variablen `liste`. Ab Z3 beginnt unsere Schleife über die Inhalte der `tiere` zu iterieren. \n",
    "\n",
    "In Z4 hängen wir mit dem Operator `+=` an den Inhalt der Variablen `html_liste` eine weitere Zeichenkette dran. Dabei sind die `{}` ein Platzhalter, der mit `.format(tier)` durch das aktuelle Tier aus der Iteration besetzt wird. \n",
    "\n",
    "Nachdem die Schleife durchgelaufen ist, wird an den String noch das Endtag der ungeordneten Liste, `</ul>`, drangehängt."
   ]
  },
  {
   "cell_type": "markdown",
   "metadata": {},
   "source": [
    "Die Ausgabe von `liste` zeigt uns einen String."
   ]
  },
  {
   "cell_type": "code",
   "execution_count": 6,
   "metadata": {},
   "outputs": [
    {
     "name": "stdout",
     "output_type": "stream",
     "text": [
      "<ul><li>Hund</li><li>Katze</li><li>Giraffe</li><li>Maus</li><li>Frosch</li></ul>\n"
     ]
    }
   ],
   "source": [
    "print(html_liste)"
   ]
  },
  {
   "cell_type": "markdown",
   "metadata": {},
   "source": [
    "## Liste als HTML ausgeben\n",
    "\n",
    "Um das generierte Konstrukt nun als HTML ausgeben zu können (in diesem Notebook), importieren wir noch eine besondere Funktion."
   ]
  },
  {
   "cell_type": "code",
   "execution_count": 7,
   "metadata": {},
   "outputs": [
    {
     "data": {
      "text/html": [
       "<ul><li>Hund</li><li>Katze</li><li>Giraffe</li><li>Maus</li><li>Frosch</li></ul>"
      ],
      "text/plain": [
       "<IPython.core.display.HTML object>"
      ]
     },
     "execution_count": 7,
     "metadata": {},
     "output_type": "execute_result"
    }
   ],
   "source": [
    "# Nur notwendig, um hier, in diesem Notebook, \n",
    "# das HTML ausgeben zu können.\n",
    "from IPython.display import HTML\n",
    "HTML(html_liste)"
   ]
  }
 ],
 "metadata": {
  "celltoolbar": "Raw Cell Format",
  "kernelspec": {
   "display_name": "Python 3",
   "language": "python",
   "name": "python3"
  },
  "language_info": {
   "codemirror_mode": {
    "name": "ipython",
    "version": 3
   },
   "file_extension": ".py",
   "mimetype": "text/x-python",
   "name": "python",
   "nbconvert_exporter": "python",
   "pygments_lexer": "ipython3",
   "version": "3.6.3"
  },
  "toc": {
   "nav_menu": {},
   "number_sections": true,
   "sideBar": true,
   "skip_h1_title": false,
   "toc_cell": false,
   "toc_position": {},
   "toc_section_display": "block",
   "toc_window_display": false
  },
  "varInspector": {
   "cols": {
    "lenName": 16,
    "lenType": 16,
    "lenVar": 40
   },
   "kernels_config": {
    "python": {
     "delete_cmd_postfix": "",
     "delete_cmd_prefix": "del ",
     "library": "var_list.py",
     "varRefreshCmd": "print(var_dic_list())"
    },
    "r": {
     "delete_cmd_postfix": ") ",
     "delete_cmd_prefix": "rm(",
     "library": "var_list.r",
     "varRefreshCmd": "cat(var_dic_list()) "
    }
   },
   "types_to_exclude": [
    "module",
    "function",
    "builtin_function_or_method",
    "instance",
    "_Feature"
   ],
   "window_display": false
  }
 },
 "nbformat": 4,
 "nbformat_minor": 2
}
