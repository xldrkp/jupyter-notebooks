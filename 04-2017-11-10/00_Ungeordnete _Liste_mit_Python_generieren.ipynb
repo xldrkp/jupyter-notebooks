{
 "cells": [
  {
   "cell_type": "markdown",
   "metadata": {},
   "source": [
    "# HTML generieren mit Python\n",
    "\n",
    "Hands-on-Coden am 10.11.2017, \"Einführung in die Informatik II\""
   ]
  },
  {
   "cell_type": "code",
   "execution_count": 1,
   "metadata": {},
   "outputs": [
    {
     "name": "stdout",
     "output_type": "stream",
     "text": [
      "Los geht'!\n"
     ]
    }
   ],
   "source": [
    "print(\"Los geht'!\")"
   ]
  },
  {
   "cell_type": "markdown",
   "metadata": {},
   "source": [
    "Wir definieren eine Variable `kuchensorten` und speichern darin eine Liste von Strings. String ist der englische Begriff für \"Zeichenkette\". Eine Liste in Python ist eine Aufzählung gleichartiger oder gemischter Datentypen."
   ]
  },
  {
   "cell_type": "code",
   "execution_count": 2,
   "metadata": {
    "collapsed": true
   },
   "outputs": [],
   "source": [
    "kuchensorten = [\"Zitronenkuchen\", \"Schokoladenkuchen\", \"Erdbeerkuchen\", \"Muffins\", \"Kekse\", \"Apfelkuchen\", \"Himbeertorten\"]"
   ]
  },
  {
   "cell_type": "markdown",
   "metadata": {},
   "source": [
    "Im Folgenden geben wir die Werte der Liste mit einer Schleife aus."
   ]
  },
  {
   "cell_type": "code",
   "execution_count": 3,
   "metadata": {},
   "outputs": [
    {
     "name": "stdout",
     "output_type": "stream",
     "text": [
      "Zitronenkuchen\n",
      "Schokoladenkuchen\n",
      "Erdbeerkuchen\n",
      "Muffins\n",
      "Kekse\n",
      "Apfelkuchen\n",
      "Himbeertorten\n"
     ]
    }
   ],
   "source": [
    "for kuchen in kuchensorten:\n",
    "    print(kuchen)"
   ]
  },
  {
   "cell_type": "markdown",
   "metadata": {},
   "source": [
    "## Exkurs: Ungeordnete Listen in HTML\n",
    "\n",
    "Ungeordnete Listen in HTML sehen wie folgt aus:"
   ]
  },
  {
   "cell_type": "raw",
   "metadata": {},
   "source": [
    "<ul>\n",
    "    <li>Zitronenkuchen</li>\n",
    "    <li>Schokoladenkuchen</li>\n",
    "</ul>"
   ]
  },
  {
   "cell_type": "markdown",
   "metadata": {},
   "source": [
    "Die Praxis zeigt, dass das zu generierende HTML-Konstrukt zunächst statisch erstellt und anschließend dynamisch generiert werden sollte."
   ]
  },
  {
   "cell_type": "markdown",
   "metadata": {},
   "source": [
    "## Generierung mit Python\n",
    "\n",
    "Dieses Konstrukt werden wir nun mit Python generieren."
   ]
  },
  {
   "cell_type": "code",
   "execution_count": 4,
   "metadata": {},
   "outputs": [
    {
     "name": "stdout",
     "output_type": "stream",
     "text": [
      "<li>Zitronenkuchen</li>\n",
      "<li>Schokoladenkuchen</li>\n",
      "<li>Erdbeerkuchen</li>\n",
      "<li>Muffins</li>\n",
      "<li>Kekse</li>\n",
      "<li>Apfelkuchen</li>\n",
      "<li>Himbeertorten</li>\n"
     ]
    }
   ],
   "source": [
    "for kuchen in kuchensorten:\n",
    "    print(\"<li>\" + kuchen + \"</li>\")"
   ]
  },
  {
   "cell_type": "markdown",
   "metadata": {},
   "source": [
    "Besser funktioniert es mit der [Formatierungsfunktion](https://docs.python.org/3/library/string.html#formatstrings) für Strings:"
   ]
  },
  {
   "cell_type": "code",
   "execution_count": 5,
   "metadata": {
    "collapsed": true
   },
   "outputs": [],
   "source": [
    "element_wrapper = '<li style=\"color: blue\">{}</li>'"
   ]
  },
  {
   "cell_type": "code",
   "execution_count": 6,
   "metadata": {},
   "outputs": [
    {
     "name": "stdout",
     "output_type": "stream",
     "text": [
      "<li style=\"color: blue\">Zitronenkuchen</li>\n",
      "<li style=\"color: blue\">Schokoladenkuchen</li>\n",
      "<li style=\"color: blue\">Erdbeerkuchen</li>\n",
      "<li style=\"color: blue\">Muffins</li>\n",
      "<li style=\"color: blue\">Kekse</li>\n",
      "<li style=\"color: blue\">Apfelkuchen</li>\n",
      "<li style=\"color: blue\">Himbeertorten</li>\n"
     ]
    }
   ],
   "source": [
    "for kuchen in kuchensorten:\n",
    "    print(element_wrapper.format(kuchen))"
   ]
  },
  {
   "cell_type": "markdown",
   "metadata": {},
   "source": [
    "**Problem:** Das generierte HTML liegt nicht als Ganzes gespeichert in einer Variable vor. Dadurch kann es später im Programm nicht als eigenständiger Wert wiederverwendet werden.\n",
    "\n",
    "**Lösung:** Wir generieren das HTML und speichern es in einer Variablen."
   ]
  },
  {
   "cell_type": "code",
   "execution_count": 7,
   "metadata": {
    "collapsed": true
   },
   "outputs": [],
   "source": [
    "liste = \"\"\n",
    "for kuchen in kuchensorten:\n",
    "    # print(liste)\n",
    "    liste = liste + element_wrapper.format(kuchen)"
   ]
  },
  {
   "cell_type": "markdown",
   "metadata": {},
   "source": [
    "Nun hüllen wir die Liste noch in die notwendigen Mantelelemente ein:"
   ]
  },
  {
   "cell_type": "code",
   "execution_count": 8,
   "metadata": {},
   "outputs": [
    {
     "name": "stdout",
     "output_type": "stream",
     "text": [
      "<ul><li style=\"color: blue\">Zitronenkuchen</li><li style=\"color: blue\">Schokoladenkuchen</li><li style=\"color: blue\">Erdbeerkuchen</li><li style=\"color: blue\">Muffins</li><li style=\"color: blue\">Kekse</li><li style=\"color: blue\">Apfelkuchen</li><li style=\"color: blue\">Himbeertorten</li></ul>\n"
     ]
    }
   ],
   "source": [
    "print(\"<ul>\" + liste + \"</ul>\")"
   ]
  },
  {
   "cell_type": "markdown",
   "metadata": {},
   "source": [
    "Alternative Lösung, analog zu unseren `element_wrapper` oben:"
   ]
  },
  {
   "cell_type": "code",
   "execution_count": 9,
   "metadata": {
    "collapsed": true
   },
   "outputs": [],
   "source": [
    "list_wrapper = \"<ul>{}</ul>\""
   ]
  },
  {
   "cell_type": "code",
   "execution_count": 10,
   "metadata": {},
   "outputs": [
    {
     "name": "stdout",
     "output_type": "stream",
     "text": [
      "<ul><li style=\"color: blue\">Zitronenkuchen</li><li style=\"color: blue\">Schokoladenkuchen</li><li style=\"color: blue\">Erdbeerkuchen</li><li style=\"color: blue\">Muffins</li><li style=\"color: blue\">Kekse</li><li style=\"color: blue\">Apfelkuchen</li><li style=\"color: blue\">Himbeertorten</li></ul>\n"
     ]
    }
   ],
   "source": [
    "print(list_wrapper.format(liste))"
   ]
  },
  {
   "cell_type": "markdown",
   "metadata": {},
   "source": [
    "Damit wir das Ergebnis unserer Arbeit nun auch als \"richtiges\" HTML ausgegeben bekommen, wenden wir einen Kniff in Jupyter Notebook an: Wir importieren eine besondere Funktion, die den generierten String als HTML ausgibt."
   ]
  },
  {
   "cell_type": "code",
   "execution_count": 11,
   "metadata": {},
   "outputs": [
    {
     "data": {
      "text/html": [
       "<ul><li style=\"color: blue\">Zitronenkuchen</li><li style=\"color: blue\">Schokoladenkuchen</li><li style=\"color: blue\">Erdbeerkuchen</li><li style=\"color: blue\">Muffins</li><li style=\"color: blue\">Kekse</li><li style=\"color: blue\">Apfelkuchen</li><li style=\"color: blue\">Himbeertorten</li></ul>"
      ],
      "text/plain": [
       "<IPython.core.display.HTML object>"
      ]
     },
     "execution_count": 11,
     "metadata": {},
     "output_type": "execute_result"
    }
   ],
   "source": [
    "from IPython.display import HTML\n",
    "\n",
    "HTML(list_wrapper.format(liste))"
   ]
  },
  {
   "cell_type": "markdown",
   "metadata": {},
   "source": [
    "Voilà!"
   ]
  }
 ],
 "metadata": {
  "kernelspec": {
   "display_name": "Python 3",
   "language": "python",
   "name": "python3"
  },
  "language_info": {
   "codemirror_mode": {
    "name": "ipython",
    "version": 3
   },
   "file_extension": ".py",
   "mimetype": "text/x-python",
   "name": "python",
   "nbconvert_exporter": "python",
   "pygments_lexer": "ipython3",
   "version": "3.6.1"
  },
  "varInspector": {
   "cols": {
    "lenName": 16,
    "lenType": 16,
    "lenVar": 40
   },
   "kernels_config": {
    "python": {
     "delete_cmd_postfix": "",
     "delete_cmd_prefix": "del ",
     "library": "var_list.py",
     "varRefreshCmd": "print(var_dic_list())"
    },
    "r": {
     "delete_cmd_postfix": ") ",
     "delete_cmd_prefix": "rm(",
     "library": "var_list.r",
     "varRefreshCmd": "cat(var_dic_list()) "
    }
   },
   "types_to_exclude": [
    "module",
    "function",
    "builtin_function_or_method",
    "instance",
    "_Feature"
   ],
   "window_display": false
  }
 },
 "nbformat": 4,
 "nbformat_minor": 2
}
