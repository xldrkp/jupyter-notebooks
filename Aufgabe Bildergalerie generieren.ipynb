{
 "cells": [
  {
   "cell_type": "markdown",
   "metadata": {},
   "source": [
    "# Aufgabe: Bildergalerie generieren\n",
    "\n",
    "Generieren Sie eine einfache Bildergalerie mit Python!\n",
    "\n",
    "Bevor Sie etwas tun: **Erstellen Sie eine Kopie dieses Notebooks über *File -> Make a copy...***"
   ]
  },
  {
   "cell_type": "markdown",
   "metadata": {},
   "source": [
    "![Beispiel für eine Bildergalerie](03-2017-11-03/abb/galerie-beispiel.png)"
   ]
  },
  {
   "cell_type": "markdown",
   "metadata": {},
   "source": [
    "## Vorbereitung\n",
    "\n",
    "Überlegen Sie zu zweit oder im Team\n",
    "\n",
    "- worin das Problem der Aufgabe besteht\n",
    "- welche Zutaten Sie brauchen\n",
    "- wie die Zutaten kombiniert werden müssen, um die Aufgabe zu lösen\n",
    "\n",
    "Nutzen Sie das Jupyter Notebook [\"Die pythonische Küche\"](https://collaborating.tuhh.de/itbh-inf-wise201718/jupyter-notebooks/blob/master/die_pythonische_kueche.ipynb) als Quelle der Inspiration."
   ]
  },
  {
   "cell_type": "markdown",
   "metadata": {},
   "source": [
    "## Problem\n",
    "\n",
    "Worin besteht das Problem? Schreiben Sie mit Ihren Worten, was ein Programm leisten müsste, das die Aufgabe lösen soll.\n",
    "\n",
    "Die folgenden Fragen können Ihr Denken anleiten:\n",
    "\n",
    "- Wie sehen (einfache) Bildergalerien im Netz aus?\n",
    "- Wie lassen sich die Regeln eines Systems mit Worten beschreiben, das eine solche Galerie generiert?"
   ]
  },
  {
   "cell_type": "markdown",
   "metadata": {},
   "source": [
    "Fangen Sie in etwa so an:\n",
    "\n",
    "> \"Um eine Bildergalerie zu generieren, müssen die Bilder bekannt sein, aus denen sie bestehen wird.\""
   ]
  },
  {
   "cell_type": "markdown",
   "metadata": {},
   "source": [
    "## Zutaten\n",
    "\n",
    "Was brauchen Sie? Schauen Sie ggf. noch einmal in [\"Die pythonische Küche\"](https://collaborating.tuhh.de/itbh-inf-wise201718/jupyter-notebooks/blob/master/die_pythonische_kueche.ipynb)."
   ]
  },
  {
   "cell_type": "markdown",
   "metadata": {},
   "source": [
    "## Programm\n",
    "\n",
    "Jetzt kommt's! Versuchen Sie, den Code zu schreiben. Nur Mut, es kann nichts passieren."
   ]
  },
  {
   "cell_type": "code",
   "execution_count": 1,
   "metadata": {
    "collapsed": true
   },
   "outputs": [],
   "source": [
    "# Generator für eine Bildergalerie"
   ]
  },
  {
   "cell_type": "markdown",
   "metadata": {},
   "source": [
    "## Ergebnissicherung\n",
    "\n",
    "Sichern Sie zum Ende der Einheit dieses Notebook durch einen Export: *File -> Download as -> Notebook (.ipynb)*."
   ]
  }
 ],
 "metadata": {
  "kernelspec": {
   "display_name": "Python 3",
   "language": "python",
   "name": "python3"
  },
  "language_info": {
   "codemirror_mode": {
    "name": "ipython",
    "version": 3
   },
   "file_extension": ".py",
   "mimetype": "text/x-python",
   "name": "python",
   "nbconvert_exporter": "python",
   "pygments_lexer": "ipython3",
   "version": "3.6.1"
  },
  "toc": {
   "nav_menu": {},
   "number_sections": true,
   "sideBar": true,
   "skip_h1_title": false,
   "toc_cell": false,
   "toc_position": {},
   "toc_section_display": "block",
   "toc_window_display": false
  },
  "varInspector": {
   "cols": {
    "lenName": 16,
    "lenType": 16,
    "lenVar": 40
   },
   "kernels_config": {
    "python": {
     "delete_cmd_postfix": "",
     "delete_cmd_prefix": "del ",
     "library": "var_list.py",
     "varRefreshCmd": "print(var_dic_list())"
    },
    "r": {
     "delete_cmd_postfix": ") ",
     "delete_cmd_prefix": "rm(",
     "library": "var_list.r",
     "varRefreshCmd": "cat(var_dic_list()) "
    }
   },
   "types_to_exclude": [
    "module",
    "function",
    "builtin_function_or_method",
    "instance",
    "_Feature"
   ],
   "window_display": false
  }
 },
 "nbformat": 4,
 "nbformat_minor": 2
}
