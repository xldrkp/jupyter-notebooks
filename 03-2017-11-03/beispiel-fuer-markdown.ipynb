{
 "cells": [
  {
   "cell_type": "markdown",
   "metadata": {},
   "source": [
    "# Beispiel für Markdown\n",
    "\n",
    "Hier zeige ich **kurz**, wie Markdown funktioniert. *Toll, oder?*\n",
    "\n",
    "Aus Markdown kann Vieles werden:\n",
    "\n",
    "- HTML\n",
    "- PDF\n",
    "- Word\n",
    "- LibreOffice\n",
    "\n",
    "## Weitere Quellen zu Markdown\n",
    "\n",
    "Markdown ist weit verbreitet und zahlreich dokumentiert. Es folgt eine Auswahl:\n",
    "\n",
    "- https://daringfireball.net/projects/markdown/\n",
    "- http://markdown.de/\n",
    "- https://github.com/adam-p/markdown-here/wiki/Markdown-Cheatsheet\n",
    "- http://t3n.de/news/eigentlich-markdown-478610/\n",
    "\n",
    "Ein Link, dessen URL nicht zu sehen ist, wird in Markdown wie folgt notiert:\n",
    "\n",
    "    [Klickbarer Text](URL)\n",
    "    \n",
    "Also z.B. so: Markdown wurde u.a. von [Aaron Swartz](https://de.wikipedia.org/wiki/Markdown) entwickelt."
   ]
  }
 ],
 "metadata": {
  "kernelspec": {
   "display_name": "Python 3",
   "language": "python",
   "name": "python3"
  },
  "language_info": {
   "codemirror_mode": {
    "name": "ipython",
    "version": 3
   },
   "file_extension": ".py",
   "mimetype": "text/x-python",
   "name": "python",
   "nbconvert_exporter": "python",
   "pygments_lexer": "ipython3",
   "version": "3.6.3"
  },
  "toc": {
   "nav_menu": {},
   "number_sections": true,
   "sideBar": true,
   "skip_h1_title": false,
   "toc_cell": false,
   "toc_position": {},
   "toc_section_display": "block",
   "toc_window_display": false
  },
  "varInspector": {
   "cols": {
    "lenName": 16,
    "lenType": 16,
    "lenVar": 40
   },
   "kernels_config": {
    "python": {
     "delete_cmd_postfix": "",
     "delete_cmd_prefix": "del ",
     "library": "var_list.py",
     "varRefreshCmd": "print(var_dic_list())"
    },
    "r": {
     "delete_cmd_postfix": ") ",
     "delete_cmd_prefix": "rm(",
     "library": "var_list.r",
     "varRefreshCmd": "cat(var_dic_list()) "
    }
   },
   "types_to_exclude": [
    "module",
    "function",
    "builtin_function_or_method",
    "instance",
    "_Feature"
   ],
   "window_display": false
  }
 },
 "nbformat": 4,
 "nbformat_minor": 2
}
