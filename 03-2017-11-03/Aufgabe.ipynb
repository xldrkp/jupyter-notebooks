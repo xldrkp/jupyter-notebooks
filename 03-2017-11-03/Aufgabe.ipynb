{
 "cells": [
  {
   "cell_type": "markdown",
   "metadata": {},
   "source": [
    "# Aufgabe\n",
    "\n",
    "Schreiben Sie ein Programm für ein Tierheim, das den Bestand aller untergebrachten Tiere ausgibt! "
   ]
  },
  {
   "cell_type": "markdown",
   "metadata": {},
   "source": [
    "## Vorbereitung\n",
    "\n",
    "Überlegen Sie zu zweit oder im Team\n",
    "\n",
    "- worin das Problem der Aufgabe besteht\n",
    "- welche Zutaten Sie brauchen\n",
    "- wie die Zutaten kombiniert werden müssen, um die Aufgabe zu lösen\n",
    "\n",
    "Nutzen Sie das Jupyter Notebook [\"Die pythonische Küche\"](https://collaborating.tuhh.de/itbh-inf-wise201718/jupyter-notebooks/blob/master/die_pythonische_kueche.ipynb) als Quelle der Inspiration."
   ]
  },
  {
   "cell_type": "markdown",
   "metadata": {},
   "source": [
    "## Problem\n",
    "\n",
    "Worin besteht das Problem? Schreiben Sie mit Ihren Worten, was ein Programm leisten müsste, das die Aufgabe lösen soll.\n",
    "\n",
    "Die folgenden Fragen können Ihr Denken anleiten:\n",
    "\n",
    "- Wie wirkt sich das allgemeine Handeln eines Tierheims auf die Anforderungen an das Programm aus?\n",
    "- Wie wäre Software beschaffen, mit der das Tierheim die Verwaltung seines Bestandes in der Wirklichkeit durchführt?"
   ]
  },
  {
   "cell_type": "markdown",
   "metadata": {},
   "source": [
    "## Zutaten\n",
    "\n",
    "Was brauchen Sie? Schauen Sie ggf. noch einmal in [\"Die pythonische Küche\"](https://collaborating.tuhh.de/itbh-inf-wise201718/jupyter-notebooks/blob/master/die_pythonische_kueche.ipynb)."
   ]
  },
  {
   "cell_type": "markdown",
   "metadata": {},
   "source": [
    "## Programm\n",
    "\n",
    "Jetzt kommt's! Versuchen Sie, den Code zu schreiben. Nur Mut, es kann nichts passieren."
   ]
  },
  {
   "cell_type": "code",
   "execution_count": 1,
   "metadata": {
    "collapsed": true
   },
   "outputs": [],
   "source": [
    "# Bestandsliste Tierheim"
   ]
  },
  {
   "cell_type": "markdown",
   "metadata": {},
   "source": [
    "## Ergebnissicherung\n",
    "\n",
    "Sichern Sie zum Ende der Einheit dieses Notebook durch einen Export: *File -> Download as -> Notebook (.ipynb)*."
   ]
  }
 ],
 "metadata": {
  "kernelspec": {
   "display_name": "Python 3",
   "language": "python",
   "name": "python3"
  },
  "language_info": {
   "codemirror_mode": {
    "name": "ipython",
    "version": 3
   },
   "file_extension": ".py",
   "mimetype": "text/x-python",
   "name": "python",
   "nbconvert_exporter": "python",
   "pygments_lexer": "ipython3",
   "version": "3.6.1"
  }
 },
 "nbformat": 4,
 "nbformat_minor": 2
}
